{
 "cells": [
  {
   "cell_type": "code",
   "execution_count": 6,
   "id": "5d7b31d0-4da6-44ca-abf0-8c2f3825fc80",
   "metadata": {},
   "outputs": [],
   "source": [
    "f=47896"
   ]
  },
  {
   "cell_type": "code",
   "execution_count": 7,
   "id": "0e504d8e-6f2a-49ef-8bb7-1877d6442132",
   "metadata": {},
   "outputs": [
    {
     "name": "stdout",
     "output_type": "stream",
     "text": [
      "69874"
     ]
    }
   ],
   "source": [
    "while f>0:\n",
    "    print(f%10,end='')\n",
    "    f=f//10"
   ]
  },
  {
   "cell_type": "code",
   "execution_count": 8,
   "id": "c83903b2-8db1-4023-9142-c70ceb6ea2db",
   "metadata": {},
   "outputs": [],
   "source": [
    "f=47896"
   ]
  },
  {
   "cell_type": "code",
   "execution_count": 9,
   "id": "a513b268-517f-4d8f-8c6b-8d43c2cc929a",
   "metadata": {},
   "outputs": [
    {
     "name": "stdout",
     "output_type": "stream",
     "text": [
      "100\n"
     ]
    }
   ],
   "source": [
    "sum=0\n",
    "l=list()\n",
    "i=0\n",
    "\n",
    "while i<20:\n",
    "    if i%2!=0:\n",
    "        l.append(i)\n",
    "    i=i+1\n",
    "i=0\n",
    "while i<len(l):\n",
    "    sum=sum+l[i]\n",
    "    i=i+1\n",
    "print(sum)"
   ]
  },
  {
   "cell_type": "code",
   "execution_count": 11,
   "id": "5e513044-5a2f-4c98-8568-222165522fc4",
   "metadata": {},
   "outputs": [
    {
     "name": "stdout",
     "output_type": "stream",
     "text": [
      "5\n"
     ]
    }
   ],
   "source": [
    "# count the number of digits\n",
    "f=47896\n",
    "count=0\n",
    "while f>0:\n",
    "    f=f//10\n",
    "    count+=1\n",
    "print(count)"
   ]
  },
  {
   "cell_type": "code",
   "execution_count": 15,
   "id": "be490283-ad0f-485a-9c5d-9bd78f8fc9ea",
   "metadata": {},
   "outputs": [
    {
     "name": "stdout",
     "output_type": "stream",
     "text": [
      "98741\n"
     ]
    }
   ],
   "source": [
    "r=14789\n",
    "num=0\n",
    "while r>0:\n",
    "    num=num*10+r%10\n",
    "    r=r//10\n",
    "print(num)"
   ]
  },
  {
   "cell_type": "code",
   "execution_count": 22,
   "id": "90c89eae-3e95-4ffb-b5b4-1993ecab2b01",
   "metadata": {},
   "outputs": [
    {
     "name": "stdout",
     "output_type": "stream",
     "text": [
      "0b101\n"
     ]
    }
   ],
   "source": [
    "num=5\n",
    "print(bin(num))"
   ]
  },
  {
   "cell_type": "code",
   "execution_count": null,
   "id": "45db5136-2939-41f2-8691-acec74660b56",
   "metadata": {},
   "outputs": [],
   "source": []
  }
 ],
 "metadata": {
  "kernelspec": {
   "display_name": "Python 3 (ipykernel)",
   "language": "python",
   "name": "python3"
  },
  "language_info": {
   "codemirror_mode": {
    "name": "ipython",
    "version": 3
   },
   "file_extension": ".py",
   "mimetype": "text/x-python",
   "name": "python",
   "nbconvert_exporter": "python",
   "pygments_lexer": "ipython3",
   "version": "3.12.4"
  }
 },
 "nbformat": 4,
 "nbformat_minor": 5
}

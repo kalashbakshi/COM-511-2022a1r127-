{
 "cells": [
  {
   "cell_type": "code",
   "execution_count": 15,
   "id": "d01f4ec6-0bbb-4be3-9a57-61349fe7b558",
   "metadata": {},
   "outputs": [],
   "source": [
    "def calculate(cal):\n",
    "    if cal.lower()=='circle':\n",
    "        val=input('what you want to find : ')\n",
    "        r=float(input('Enter radius : '))\n",
    "        if val=='area':\n",
    "            return (22/7)*(r**2)\n",
    "        elif val=='perimeter':\n",
    "            return (22/7)*2*r\n",
    "    elif cal.lower()=='triangle':\n",
    "        val=input('what you want to find : ')\n",
    "        if val=='area':\n",
    "            b=float(input('Enter the value for b : '))\n",
    "            h=float(input('Enter the value for h : '))\n",
    "            return 0.5*b*h\n",
    "        elif val=='perimeter':\n",
    "            a=float(input('Enter the value for a : '))\n",
    "            b=float(input('Enter the value for b : '))\n",
    "            c=float(input('Enter the value for c : '))\n",
    "            return a+b+c\n",
    "    elif cal.lower()=='cylinder':\n",
    "        val=input('what you want to find : ')\n",
    "        if val=='volume':\n",
    "            r=float(input('Enter the value for r : '))\n",
    "            h=float(input('Enter the value for h : '))\n",
    "            return (22/7)*(r**2)*h\n",
    "        elif val=='surface area':\n",
    "            r=float(input('Enter the value for r : '))\n",
    "            h=float(input('Enter the value for h : '))\n",
    "            return 2*(22/7)*r*(r+h)"
   ]
  },
  {
   "cell_type": "code",
   "execution_count": 13,
   "id": "f3ff822e-706b-4aae-bc95-713f65dd714e",
   "metadata": {},
   "outputs": [
    {
     "name": "stdin",
     "output_type": "stream",
     "text": [
      "Enter the shape :  triangle\n",
      "what you want to find :  perimeter\n",
      "Enter the value for a :  2\n",
      "Enter the value for b :  4\n",
      "Enter the value for c :  3\n"
     ]
    },
    {
     "data": {
      "text/plain": [
       "9.0"
      ]
     },
     "execution_count": 13,
     "metadata": {},
     "output_type": "execute_result"
    }
   ],
   "source": [
    "cal=input('Enter the shape : ')\n",
    "calculate(cal)"
   ]
  },
  {
   "cell_type": "markdown",
   "id": "3eef65ac-85a6-4ede-835f-5734d28b5430",
   "metadata": {},
   "source": [
    "Define Function:\n",
    "---------------\n",
    "A defined function is a block of reusable code that performs a specific task.\n",
    "It's like having a mini-program within your larger program.\n",
    "\n",
    "Function Name:\n",
    "--------------\n",
    "This is the name you give to your function.It should be descriptive and indicative of what the function does.\n",
    "\n",
    "Parameters (or Arguments):\n",
    "--------------------------\n",
    "These are optinal inputs that you can pass into the function.\n",
    "They act as placeholders for the values you want to work inside the function.\n",
    "\n",
    "Function Body:\n",
    "--------------\n",
    "This is where you write the actual code that performs the task you want the function to do.It can be as simple or as complex as you need it to be.\n",
    "\n",
    "Return Statement:\n",
    "-----------------\n",
    "This is optional.If your function needs to produce an output, you use the return statement to specify what value the function should return when it's called."
   ]
  },
  {
   "cell_type": "code",
   "execution_count": null,
   "id": "f9e221d4-a2d1-45ca-a943-5940451b8a8c",
   "metadata": {},
   "outputs": [],
   "source": []
  }
 ],
 "metadata": {
  "kernelspec": {
   "display_name": "Python 3 (ipykernel)",
   "language": "python",
   "name": "python3"
  },
  "language_info": {
   "codemirror_mode": {
    "name": "ipython",
    "version": 3
   },
   "file_extension": ".py",
   "mimetype": "text/x-python",
   "name": "python",
   "nbconvert_exporter": "python",
   "pygments_lexer": "ipython3",
   "version": "3.12.4"
  }
 },
 "nbformat": 4,
 "nbformat_minor": 5
}

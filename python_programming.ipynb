{
 "cells": [
  {
   "cell_type": "markdown",
   "id": "4e846380-95c8-47e7-888e-e8b05c944a2e",
   "metadata": {},
   "source": [
    "# cntrl+enter=run selected cell"
   ]
  },
  {
   "cell_type": "code",
   "execution_count": 1,
   "id": "1883fdd6-b743-499e-ab57-bfccc30b2074",
   "metadata": {},
   "outputs": [],
   "source": [
    "# add"
   ]
  },
  {
   "cell_type": "code",
   "execution_count": 2,
   "id": "6082af31-4981-4b22-9624-d47c283434b7",
   "metadata": {},
   "outputs": [
    {
     "data": {
      "text/plain": [
       "51"
      ]
     },
     "execution_count": 2,
     "metadata": {},
     "output_type": "execute_result"
    }
   ],
   "source": [
    "45+6"
   ]
  },
  {
   "cell_type": "code",
   "execution_count": 3,
   "id": "be6e716b-e27e-48f0-bc9b-bcd55b45bc80",
   "metadata": {},
   "outputs": [
    {
     "name": "stdout",
     "output_type": "stream",
     "text": [
      "51\n"
     ]
    }
   ],
   "source": [
    "print(45+6)"
   ]
  },
  {
   "cell_type": "code",
   "execution_count": 4,
   "id": "96c0f341-886f-45da-8375-95e07909f335",
   "metadata": {},
   "outputs": [
    {
     "name": "stdout",
     "output_type": "stream",
     "text": [
      "sum of 2 number like 5 and 6 is  11\n"
     ]
    }
   ],
   "source": [
    "print(\"sum of 2 number like 5 and 6 is \",5+6)"
   ]
  },
  {
   "cell_type": "code",
   "execution_count": 5,
   "id": "79a0c680-d005-440e-9048-e92a2e31fe5b",
   "metadata": {},
   "outputs": [
    {
     "name": "stdout",
     "output_type": "stream",
     "text": [
      "sum of 4 and 8 is 12\n"
     ]
    }
   ],
   "source": [
    "print(\"sum of {} and {} is {}\".format(4,8,8+4))"
   ]
  },
  {
   "cell_type": "code",
   "execution_count": 6,
   "id": "e641677d-201b-4ab7-8abf-99cb0d00fa6c",
   "metadata": {},
   "outputs": [
    {
     "name": "stdout",
     "output_type": "stream",
     "text": [
      "square of 45 is 2025\n"
     ]
    }
   ],
   "source": [
    "print(\"square of {} is {}\".format(45,45**2))"
   ]
  },
  {
   "cell_type": "code",
   "execution_count": 7,
   "id": "3c682c37-b957-4539-aa3c-00cadbce5189",
   "metadata": {},
   "outputs": [
    {
     "name": "stdout",
     "output_type": "stream",
     "text": [
      "cube of 45 is 91125\n"
     ]
    }
   ],
   "source": [
    "print(\"cube of {} is {}\".format(45,45**3))"
   ]
  },
  {
   "cell_type": "code",
   "execution_count": 8,
   "id": "46a8c096-957b-475c-badc-c24f827a39a8",
   "metadata": {},
   "outputs": [
    {
     "name": "stdout",
     "output_type": "stream",
     "text": [
      "square root of 45 is 6.708203932499369\n"
     ]
    }
   ],
   "source": [
    "print(\"square root of {} is {}\".format(45,45**(1/2)))"
   ]
  },
  {
   "cell_type": "code",
   "execution_count": 9,
   "id": "1f512756-2dd1-4e7d-8872-75786d0f5b7e",
   "metadata": {},
   "outputs": [
    {
     "data": {
      "text/plain": [
       "6.708"
      ]
     },
     "execution_count": 9,
     "metadata": {},
     "output_type": "execute_result"
    }
   ],
   "source": [
    "round(6.708203932499369,3)"
   ]
  },
  {
   "cell_type": "code",
   "execution_count": 10,
   "id": "f17b8c70-cc40-4580-bdf6-83d1a9956410",
   "metadata": {},
   "outputs": [
    {
     "name": "stdout",
     "output_type": "stream",
     "text": [
      "square root of 45 is 6.71\n"
     ]
    }
   ],
   "source": [
    "print(\"square root of {} is {}\".format(45, round( 45**(1/2),2)))\n"
   ]
  },
  {
   "cell_type": "code",
   "execution_count": 11,
   "id": "3331acd7-3b94-4719-a894-05fb71cbaa93",
   "metadata": {},
   "outputs": [
    {
     "name": "stdout",
     "output_type": "stream",
     "text": [
      "cube root of 45 is 3.5568933044900626\n"
     ]
    }
   ],
   "source": [
    "print(\"cube root of {} is {}\".format(45, ( 45**(1/3))))"
   ]
  },
  {
   "cell_type": "code",
   "execution_count": 12,
   "id": "acc50f05-01f1-426f-bba5-37b6671bd22e",
   "metadata": {},
   "outputs": [
    {
     "name": "stdout",
     "output_type": "stream",
     "text": [
      "cube root of 45 is 3.557\n"
     ]
    }
   ],
   "source": [
    "print(\"cube root of {} is {}\".format(45, round( 45**(1/3),3)))"
   ]
  },
  {
   "cell_type": "code",
   "execution_count": 13,
   "id": "df05a5e0-fb46-4c46-9ab2-6b1bc2e55590",
   "metadata": {},
   "outputs": [
    {
     "name": "stdout",
     "output_type": "stream",
     "text": [
      "1 hours and 1 min\n"
     ]
    }
   ],
   "source": [
    "print(\"{} hours and {} min\".format(61//60,61%60))"
   ]
  },
  {
   "cell_type": "code",
   "execution_count": 14,
   "id": "2fcd0cd0-bf7d-4c4b-9153-2ae0c1b24962",
   "metadata": {},
   "outputs": [
    {
     "name": "stdout",
     "output_type": "stream",
     "text": [
      "2594 hours and 49 min\n"
     ]
    }
   ],
   "source": [
    "print(\"{} hours and {} min\".format(155689//60,155689%60))"
   ]
  },
  {
   "cell_type": "code",
   "execution_count": 15,
   "id": "fc9a56a5-c428-410a-9e03-a1855a5bd7d3",
   "metadata": {},
   "outputs": [],
   "source": [
    "a=1789"
   ]
  },
  {
   "cell_type": "code",
   "execution_count": 16,
   "id": "7d759274-6851-4a2e-96b8-2adaf0b4a91d",
   "metadata": {},
   "outputs": [
    {
     "name": "stdout",
     "output_type": "stream",
     "text": [
      "29 hours and 49 min\n"
     ]
    }
   ],
   "source": [
    "print(\"{} hours and {} min\".format(a//60,a%60))"
   ]
  },
  {
   "cell_type": "code",
   "execution_count": 17,
   "id": "d03026d3-f885-4586-878d-f1ec91a6c8f7",
   "metadata": {},
   "outputs": [
    {
     "name": "stdout",
     "output_type": "stream",
     "text": [
      "108 days 2 and hours \n"
     ]
    }
   ],
   "source": [
    "print(\"{} days {} and hours \".format(2594//24,2594%24))"
   ]
  },
  {
   "cell_type": "code",
   "execution_count": 18,
   "id": "f5330d90-1d59-4249-8d17-379b5fa75c23",
   "metadata": {},
   "outputs": [
    {
     "name": "stdout",
     "output_type": "stream",
     "text": [
      "108 days 2 hours and 49 min \n"
     ]
    }
   ],
   "source": [
    "print(\"{} days {} hours and {} min \".format((155689//60)//24,(155689//60)%24,(155689%60)))"
   ]
  },
  {
   "cell_type": "code",
   "execution_count": 19,
   "id": "99d376bb-0cf9-4338-8cee-9840b0258394",
   "metadata": {},
   "outputs": [
    {
     "data": {
      "text/plain": [
       "2"
      ]
     },
     "execution_count": 19,
     "metadata": {},
     "output_type": "execute_result"
    }
   ],
   "source": [
    "50%4"
   ]
  },
  {
   "cell_type": "code",
   "execution_count": 20,
   "id": "ff54cf3e-5e7c-48fd-b895-e1735812a03c",
   "metadata": {},
   "outputs": [
    {
     "data": {
      "text/plain": [
       "12"
      ]
     },
     "execution_count": 20,
     "metadata": {},
     "output_type": "execute_result"
    }
   ],
   "source": [
    "50//4 #float division"
   ]
  },
  {
   "cell_type": "code",
   "execution_count": 21,
   "id": "306aa201-b46b-423d-960c-c84c6ca29bf5",
   "metadata": {},
   "outputs": [
    {
     "data": {
      "text/plain": [
       "5"
      ]
     },
     "execution_count": 21,
     "metadata": {},
     "output_type": "execute_result"
    }
   ],
   "source": [
    "#days\n",
    "(7325//60//24)"
   ]
  },
  {
   "cell_type": "code",
   "execution_count": 22,
   "id": "2c7b0a9a-e992-4356-8928-198b61c10f6f",
   "metadata": {},
   "outputs": [
    {
     "data": {
      "text/plain": [
       "2"
      ]
     },
     "execution_count": 22,
     "metadata": {},
     "output_type": "execute_result"
    }
   ],
   "source": [
    "#hours\n",
    "(7325//60)%24"
   ]
  },
  {
   "cell_type": "code",
   "execution_count": 23,
   "id": "51e07df7-698f-4de2-84f2-68f87c62ffed",
   "metadata": {},
   "outputs": [],
   "source": [
    "a=1457986"
   ]
  },
  {
   "cell_type": "code",
   "execution_count": 24,
   "id": "5e48cb75-7acd-4ad4-8d31-679c02b8321e",
   "metadata": {},
   "outputs": [
    {
     "name": "stdout",
     "output_type": "stream",
     "text": [
      "1012 days 11 hours and 46 min \n"
     ]
    }
   ],
   "source": [
    "print(\"{} days {} hours and {} min \".format((a//60)//24,(a//60)%24,(a%60)))"
   ]
  },
  {
   "cell_type": "code",
   "execution_count": 25,
   "id": "5907e087-e9be-4e87-8c77-08adb22b64c9",
   "metadata": {},
   "outputs": [
    {
     "name": "stdout",
     "output_type": "stream",
     "text": [
      "16 days 20 hours  59 min and 46 sec\n"
     ]
    }
   ],
   "source": [
    "print(\"{} days {} hours  {} min and {} sec\".format(((a//60)//60)//24,((a//60)//60)%24,(a//60)%60,a%60))"
   ]
  },
  {
   "cell_type": "markdown",
   "id": "5dfcd34f-b937-4709-a165-66c8d746bbe0",
   "metadata": {},
   "source": [
    "# variables"
   ]
  },
  {
   "cell_type": "code",
   "execution_count": 26,
   "id": "389ab519-5366-4649-996f-71c3545121ea",
   "metadata": {},
   "outputs": [],
   "source": [
    "#1.There is a logical length for variable name\n",
    "#2. name must start with _or text\n",
    "#3.there is no space in the variable name\n",
    "#4. not allow to use reserved keywords"
   ]
  },
  {
   "cell_type": "markdown",
   "id": "991d7e61-d9ee-4855-b227-0c488e374b81",
   "metadata": {},
   "source": [
    "# comparison operators"
   ]
  },
  {
   "cell_type": "code",
   "execution_count": 27,
   "id": "c4ee08e6-c521-41c3-97e8-bb6a16890d12",
   "metadata": {},
   "outputs": [],
   "source": [
    "# > #greater than\n",
    "# < #less than\n",
    "# >= #greater than or equal to\n",
    "# <= #less than or equal to\n",
    "# == #equals to\n",
    "# != #not equal to"
   ]
  },
  {
   "cell_type": "code",
   "execution_count": 28,
   "id": "4500fc31-1e0e-4ac3-84ef-33a5d6e5595e",
   "metadata": {},
   "outputs": [],
   "source": [
    "#Data Types\n",
    "# int - it will read only whole numbers\n",
    "# float - it will read whole and decimal numbers\n",
    "# string - whatever we mention in '' \"\" \"\"\" \"\"\" called string\n",
    "# boolean - True(1) and False(0)"
   ]
  },
  {
   "cell_type": "code",
   "execution_count": 29,
   "id": "05437113-9b9c-4683-90f1-53055d8f77fa",
   "metadata": {},
   "outputs": [],
   "source": [
    "q = 5\n",
    "w = 5.5\n",
    "e = \"hello\"\n",
    "t = True"
   ]
  },
  {
   "cell_type": "code",
   "execution_count": 30,
   "id": "fc226d15-b357-4627-9470-e238c93c3d6d",
   "metadata": {},
   "outputs": [
    {
     "data": {
      "text/plain": [
       "int"
      ]
     },
     "execution_count": 30,
     "metadata": {},
     "output_type": "execute_result"
    }
   ],
   "source": [
    "type(q)"
   ]
  },
  {
   "cell_type": "code",
   "execution_count": 31,
   "id": "594a836a-29ee-43d9-bf7e-89430c483031",
   "metadata": {},
   "outputs": [
    {
     "data": {
      "text/plain": [
       "float"
      ]
     },
     "execution_count": 31,
     "metadata": {},
     "output_type": "execute_result"
    }
   ],
   "source": [
    "\n",
    "type(w)"
   ]
  },
  {
   "cell_type": "code",
   "execution_count": 32,
   "id": "09e3b25e-19c0-4219-8fca-e6f60ae109af",
   "metadata": {},
   "outputs": [
    {
     "data": {
      "text/plain": [
       "str"
      ]
     },
     "execution_count": 32,
     "metadata": {},
     "output_type": "execute_result"
    }
   ],
   "source": [
    "type(e)\n"
   ]
  },
  {
   "cell_type": "code",
   "execution_count": 33,
   "id": "5f30ab7d-885f-4ff8-966e-45b0e68e630f",
   "metadata": {},
   "outputs": [
    {
     "data": {
      "text/plain": [
       "bool"
      ]
     },
     "execution_count": 33,
     "metadata": {},
     "output_type": "execute_result"
    }
   ],
   "source": [
    "type(t)"
   ]
  },
  {
   "cell_type": "code",
   "execution_count": 34,
   "id": "64edadc3-5110-4dc6-a3df-902aaead915e",
   "metadata": {},
   "outputs": [
    {
     "name": "stdout",
     "output_type": "stream",
     "text": [
      "Variable   Type     Data/Info\n",
      "-----------------------------\n",
      "a          int      1457986\n",
      "e          str      hello\n",
      "q          int      5\n",
      "t          bool     True\n",
      "w          float    5.5\n"
     ]
    }
   ],
   "source": [
    "%whos"
   ]
  },
  {
   "cell_type": "code",
   "execution_count": 35,
   "id": "ad08e978-f0aa-425a-8c19-b0c21b27acd7",
   "metadata": {},
   "outputs": [],
   "source": [
    "del(a)"
   ]
  },
  {
   "cell_type": "code",
   "execution_count": 36,
   "id": "6e048332-b991-45a1-822f-0a8861993e05",
   "metadata": {},
   "outputs": [
    {
     "name": "stdout",
     "output_type": "stream",
     "text": [
      "Variable   Type     Data/Info\n",
      "-----------------------------\n",
      "e          str      hello\n",
      "q          int      5\n",
      "t          bool     True\n",
      "w          float    5.5\n"
     ]
    }
   ],
   "source": [
    "%whos"
   ]
  },
  {
   "cell_type": "code",
   "execution_count": 37,
   "id": "bc2605ae-c726-4d0b-ad35-935300fac784",
   "metadata": {},
   "outputs": [
    {
     "data": {
      "text/plain": [
       "str"
      ]
     },
     "execution_count": 37,
     "metadata": {},
     "output_type": "execute_result"
    }
   ],
   "source": [
    "a=\"123\"\n",
    "type(a)"
   ]
  },
  {
   "cell_type": "code",
   "execution_count": 38,
   "id": "5ed06c51-97ea-43ad-aee0-19a2d9d64904",
   "metadata": {},
   "outputs": [
    {
     "data": {
      "text/plain": [
       "123.0"
      ]
     },
     "execution_count": 38,
     "metadata": {},
     "output_type": "execute_result"
    }
   ],
   "source": [
    "float(a)"
   ]
  },
  {
   "cell_type": "code",
   "execution_count": 39,
   "id": "d9c7ec00-cd9f-4207-997e-ff3c951f4977",
   "metadata": {},
   "outputs": [],
   "source": [
    "h= 45"
   ]
  },
  {
   "cell_type": "code",
   "execution_count": 40,
   "id": "13bd75a5-ed50-4099-b5f2-53160867fac3",
   "metadata": {},
   "outputs": [
    {
     "data": {
      "text/plain": [
       "'45'"
      ]
     },
     "execution_count": 40,
     "metadata": {},
     "output_type": "execute_result"
    }
   ],
   "source": [
    "str(h)"
   ]
  },
  {
   "cell_type": "markdown",
   "id": "a3f59724-3732-4e65-9500-a12c11e731e1",
   "metadata": {},
   "source": [
    "# string"
   ]
  },
  {
   "cell_type": "code",
   "execution_count": 41,
   "id": "15c387af-74c9-42e7-9d82-ab8f5a2be156",
   "metadata": {},
   "outputs": [],
   "source": [
    "st=\"hello potter meat me at the shop or mail me on python@gmail.com at 9:00pm\""
   ]
  },
  {
   "cell_type": "code",
   "execution_count": 42,
   "id": "b4a7d83e-4f2f-4091-9e3b-687556bf4ffa",
   "metadata": {},
   "outputs": [],
   "source": [
    "a=5"
   ]
  },
  {
   "cell_type": "code",
   "execution_count": null,
   "id": "e0ebf3d4-7dab-433c-a875-dd3ab6dbd584",
   "metadata": {},
   "outputs": [],
   "source": [
    "len(str) #it count the length of the string\n",
    "st.upper() \n",
    "st.lower()\n",
    "st.capitalize()\n",
    "st.title()\n",
    "st.removeprefix()\n",
    "st.removesuffix()\n",
    "st.split()"
   ]
  },
  {
   "cell_type": "code",
   "execution_count": 44,
   "id": "c1bd7b2f-e614-41d9-9806-28ff469611e8",
   "metadata": {},
   "outputs": [
    {
     "data": {
      "text/plain": [
       "73"
      ]
     },
     "execution_count": 44,
     "metadata": {},
     "output_type": "execute_result"
    }
   ],
   "source": [
    "len(st)"
   ]
  },
  {
   "cell_type": "code",
   "execution_count": 45,
   "id": "83bb16ed-9d86-4548-8f4f-1a7443072f71",
   "metadata": {},
   "outputs": [
    {
     "data": {
      "text/plain": [
       "'hello'"
      ]
     },
     "execution_count": 45,
     "metadata": {},
     "output_type": "execute_result"
    }
   ],
   "source": [
    "st=\"hello\"\n",
    "st.lstrip()\n",
    "st.rstrip()\n"
   ]
  },
  {
   "cell_type": "code",
   "execution_count": 46,
   "id": "b4f88370-0f49-4a3e-bdfd-ca28a650025c",
   "metadata": {},
   "outputs": [
    {
     "data": {
      "text/plain": [
       "'hello'"
      ]
     },
     "execution_count": 46,
     "metadata": {},
     "output_type": "execute_result"
    }
   ],
   "source": [
    "st.rstrip()\n",
    "st.lstrip()"
   ]
  },
  {
   "cell_type": "code",
   "execution_count": 47,
   "id": "9c6791cf-d5e8-4d74-bd3a-e497a5cae512",
   "metadata": {},
   "outputs": [
    {
     "data": {
      "text/plain": [
       "4"
      ]
     },
     "execution_count": 47,
     "metadata": {},
     "output_type": "execute_result"
    }
   ],
   "source": [
    "st.find(\"o\")\n"
   ]
  },
  {
   "cell_type": "code",
   "execution_count": 48,
   "id": "29d4ede2-e24f-4239-afd3-ab31c9c4f258",
   "metadata": {},
   "outputs": [
    {
     "data": {
      "text/plain": [
       "4"
      ]
     },
     "execution_count": 48,
     "metadata": {},
     "output_type": "execute_result"
    }
   ],
   "source": [
    "st.find(\"o\",2)"
   ]
  },
  {
   "cell_type": "code",
   "execution_count": 49,
   "id": "3509410b-e594-4f5b-8103-6944010cdb67",
   "metadata": {},
   "outputs": [
    {
     "data": {
      "text/plain": [
       "-1"
      ]
     },
     "execution_count": 49,
     "metadata": {},
     "output_type": "execute_result"
    }
   ],
   "source": [
    "st.find(\"m\",14)"
   ]
  },
  {
   "cell_type": "markdown",
   "id": "65e6fde1-90b4-46c1-9d8c-a87b9a0b3d40",
   "metadata": {},
   "source": [
    "0,1,2,3,4\n",
    "h,e,l,l,o\n",
    "a=\"hello\""
   ]
  },
  {
   "cell_type": "code",
   "execution_count": 56,
   "id": "d4c79c35-e589-4dd4-a1a9-b0c29768d2f2",
   "metadata": {},
   "outputs": [],
   "source": [
    "a=\"hello\""
   ]
  },
  {
   "cell_type": "code",
   "execution_count": null,
   "id": "f3b7325c-b175-49ca-859d-ab0bf4c6a567",
   "metadata": {},
   "outputs": [],
   "source": []
  },
  {
   "cell_type": "code",
   "execution_count": 1,
   "id": "76bc35f5-bda4-4d51-9dc1-7329a2c95dc3",
   "metadata": {},
   "outputs": [],
   "source": [
    "t=\"there are many people in the world but i don't know any of them\""
   ]
  },
  {
   "cell_type": "code",
   "execution_count": 2,
   "id": "d2bb3f4a-cb01-4f3b-a367-47e13c36160a",
   "metadata": {},
   "outputs": [
    {
     "data": {
      "text/plain": [
       "'WORLD'"
      ]
     },
     "execution_count": 2,
     "metadata": {},
     "output_type": "execute_result"
    }
   ],
   "source": [
    "t[29:34].upper()"
   ]
  },
  {
   "cell_type": "code",
   "execution_count": 58,
   "id": "b6baab47-4227-458c-b6e6-c40281fed0e7",
   "metadata": {},
   "outputs": [
    {
     "data": {
      "text/plain": [
       "'people'"
      ]
     },
     "execution_count": 58,
     "metadata": {},
     "output_type": "execute_result"
    }
   ],
   "source": [
    "t[15:21]"
   ]
  },
  {
   "cell_type": "code",
   "execution_count": 59,
   "id": "c6227d93-33ec-4dd6-90d1-58e332f7fcbe",
   "metadata": {},
   "outputs": [
    {
     "data": {
      "text/plain": [
       "47"
      ]
     },
     "execution_count": 59,
     "metadata": {},
     "output_type": "execute_result"
    }
   ],
   "source": [
    "t.find(\"know\")"
   ]
  },
  {
   "cell_type": "code",
   "execution_count": 60,
   "id": "564fbcc9-1677-435e-b5dd-1b7b68b99c7d",
   "metadata": {},
   "outputs": [
    {
     "data": {
      "text/plain": [
       "'know any of'"
      ]
     },
     "execution_count": 60,
     "metadata": {},
     "output_type": "execute_result"
    }
   ],
   "source": [
    "t[47:58]"
   ]
  },
  {
   "cell_type": "code",
   "execution_count": 61,
   "id": "778c0814-844f-4533-8af1-f76ec5777d67",
   "metadata": {},
   "outputs": [
    {
     "data": {
      "text/plain": [
       "29"
      ]
     },
     "execution_count": 61,
     "metadata": {},
     "output_type": "execute_result"
    }
   ],
   "source": [
    "t.find(\"world\")"
   ]
  },
  {
   "cell_type": "code",
   "execution_count": 66,
   "id": "4ce4525f-66cf-47c5-8e30-57a1da15fbc0",
   "metadata": {},
   "outputs": [
    {
     "data": {
      "text/plain": [
       "'world'"
      ]
     },
     "execution_count": 66,
     "metadata": {},
     "output_type": "execute_result"
    }
   ],
   "source": [
    "t[29:34]"
   ]
  },
  {
   "cell_type": "code",
   "execution_count": 64,
   "id": "363c040c-04fc-4314-ba86-fbd4401bf40a",
   "metadata": {},
   "outputs": [
    {
     "data": {
      "text/plain": [
       "6"
      ]
     },
     "execution_count": 64,
     "metadata": {},
     "output_type": "execute_result"
    }
   ],
   "source": [
    "t.find(\"are many people in the\")"
   ]
  },
  {
   "cell_type": "code",
   "execution_count": 67,
   "id": "c9cb9028-598d-4128-ab2b-d626171bec97",
   "metadata": {},
   "outputs": [
    {
     "data": {
      "text/plain": [
       "'are many people in the'"
      ]
     },
     "execution_count": 67,
     "metadata": {},
     "output_type": "execute_result"
    }
   ],
   "source": [
    "t[6:28]"
   ]
  },
  {
   "cell_type": "code",
   "execution_count": 68,
   "id": "981f9bad-381b-4337-b5bd-4b050b857864",
   "metadata": {},
   "outputs": [
    {
     "data": {
      "text/plain": [
       "\"there are many people in the world but i don't know any of them\""
      ]
     },
     "execution_count": 68,
     "metadata": {},
     "output_type": "execute_result"
    }
   ],
   "source": [
    "t"
   ]
  },
  {
   "cell_type": "code",
   "execution_count": 69,
   "id": "51e8eeb8-5a5e-4520-91a2-7f246cf00fce",
   "metadata": {},
   "outputs": [
    {
     "data": {
      "text/plain": [
       "3"
      ]
     },
     "execution_count": 69,
     "metadata": {},
     "output_type": "execute_result"
    }
   ],
   "source": [
    "t.count(\"a\")"
   ]
  },
  {
   "cell_type": "code",
   "execution_count": 72,
   "id": "f57403c4-6309-4267-b979-f22db5562054",
   "metadata": {},
   "outputs": [],
   "source": [
    "s= (\"1 the 23 the 3 the\")"
   ]
  },
  {
   "cell_type": "code",
   "execution_count": 73,
   "id": "919392f2-57da-4188-8fe4-a78932c7b213",
   "metadata": {},
   "outputs": [
    {
     "data": {
      "text/plain": [
       "15"
      ]
     },
     "execution_count": 73,
     "metadata": {},
     "output_type": "execute_result"
    }
   ],
   "source": [
    "s.find(\"the\",10)"
   ]
  },
  {
   "cell_type": "code",
   "execution_count": 80,
   "id": "750a466f-7a54-494d-91a7-732391d31234",
   "metadata": {},
   "outputs": [],
   "source": [
    "f=\"hello how are you hello i am fine hello\""
   ]
  },
  {
   "cell_type": "code",
   "execution_count": 81,
   "id": "b4f10504-71c5-43bb-9776-439ee4bd4fdb",
   "metadata": {},
   "outputs": [
    {
     "data": {
      "text/plain": [
       "34"
      ]
     },
     "execution_count": 81,
     "metadata": {},
     "output_type": "execute_result"
    }
   ],
   "source": [
    "f.find(\"hello\",19)"
   ]
  },
  {
   "cell_type": "code",
   "execution_count": 82,
   "id": "25106bfb-9ad0-4eb9-bdc5-1509667cad2e",
   "metadata": {},
   "outputs": [
    {
     "data": {
      "text/plain": [
       "3"
      ]
     },
     "execution_count": 82,
     "metadata": {},
     "output_type": "execute_result"
    }
   ],
   "source": [
    "f.count(\"hello\")"
   ]
  },
  {
   "cell_type": "code",
   "execution_count": 83,
   "id": "fe291d9c-b096-4e31-a9ed-8ee8f3aa94b8",
   "metadata": {},
   "outputs": [
    {
     "data": {
      "text/plain": [
       "8"
      ]
     },
     "execution_count": 83,
     "metadata": {},
     "output_type": "execute_result"
    }
   ],
   "source": [
    "f.count(\" \")"
   ]
  },
  {
   "cell_type": "code",
   "execution_count": 105,
   "id": "d8f192d3-267f-45f7-b198-c13a56fd1222",
   "metadata": {},
   "outputs": [],
   "source": [
    "s=\"hello harry,please meet me @ coffee shop or email me @ python@gmail.com @11:am\""
   ]
  },
  {
   "cell_type": "code",
   "execution_count": 106,
   "id": "650ec7ef-9c97-41c8-8986-fdcbe1f880b6",
   "metadata": {},
   "outputs": [
    {
     "data": {
      "text/plain": [
       "'PYTHON@GMAIL.COM'"
      ]
     },
     "execution_count": 106,
     "metadata": {},
     "output_type": "execute_result"
    }
   ],
   "source": [
    "s[55:71].upper()"
   ]
  },
  {
   "cell_type": "code",
   "execution_count": 107,
   "id": "28b78adc-127f-41f7-9bff-e165afc862c9",
   "metadata": {},
   "outputs": [
    {
     "data": {
      "text/plain": [
       "['hello',\n",
       " 'harry,please',\n",
       " 'meet',\n",
       " 'me',\n",
       " '@',\n",
       " 'coffee',\n",
       " 'shop',\n",
       " 'or',\n",
       " 'email',\n",
       " 'me',\n",
       " '@',\n",
       " 'python@gmail.com',\n",
       " '@11:am']"
      ]
     },
     "execution_count": 107,
     "metadata": {},
     "output_type": "execute_result"
    }
   ],
   "source": [
    "s.split()"
   ]
  },
  {
   "cell_type": "code",
   "execution_count": 108,
   "id": "c18e93ba-1be2-4937-a989-48a4bad34ac4",
   "metadata": {},
   "outputs": [
    {
     "data": {
      "text/plain": [
       "'robin said to harry that hello harry,please meet me @ coffee shop or email me @ python@gmail.com @11:am'"
      ]
     },
     "execution_count": 108,
     "metadata": {},
     "output_type": "execute_result"
    }
   ],
   "source": [
    "a=s\n",
    "s=\"robin said to harry that \"\n",
    "s=s+a\n",
    "s"
   ]
  },
  {
   "cell_type": "code",
   "execution_count": 109,
   "id": "277ac0d8-6d43-46bb-8738-1ab3bd04a2e7",
   "metadata": {},
   "outputs": [
    {
     "data": {
      "text/plain": [
       "\"robin said to harry that hello harry,please meet me @ coffee shop or email me @ python@gmail.com @11:amharry replied ok i'll be there\""
      ]
     },
     "execution_count": 109,
     "metadata": {},
     "output_type": "execute_result"
    }
   ],
   "source": [
    "s=s+\"harry replied ok i'll be there\"\n",
    "s"
   ]
  },
  {
   "cell_type": "code",
   "execution_count": 110,
   "id": "7cca0adf-c2c5-4f62-9d44-4af9861b8f59",
   "metadata": {},
   "outputs": [],
   "source": [
    "e=\"Example\""
   ]
  },
  {
   "cell_type": "code",
   "execution_count": 111,
   "id": "96b6711c-07df-4ccb-80ca-e2ec15d5b765",
   "metadata": {},
   "outputs": [
    {
     "data": {
      "text/plain": [
       "'elpmaxe'"
      ]
     },
     "execution_count": 111,
     "metadata": {},
     "output_type": "execute_result"
    }
   ],
   "source": [
    "e=e.lower()\n",
    "e[::-1]"
   ]
  },
  {
   "cell_type": "code",
   "execution_count": null,
   "id": "6f371f3c-7aeb-49f4-9f4f-40db7f45d8cd",
   "metadata": {},
   "outputs": [],
   "source": []
  }
 ],
 "metadata": {
  "kernelspec": {
   "display_name": "Python 3 (ipykernel)",
   "language": "python",
   "name": "python3"
  },
  "language_info": {
   "codemirror_mode": {
    "name": "ipython",
    "version": 3
   },
   "file_extension": ".py",
   "mimetype": "text/x-python",
   "name": "python",
   "nbconvert_exporter": "python",
   "pygments_lexer": "ipython3",
   "version": "3.12.4"
  }
 },
 "nbformat": 4,
 "nbformat_minor": 5
}

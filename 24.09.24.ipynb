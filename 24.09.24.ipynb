{
 "cells": [
  {
   "cell_type": "code",
   "execution_count": 65,
   "id": "3e3c9c98-d0e2-446d-8e46-c1cd76af12ff",
   "metadata": {
    "scrolled": true
   },
   "outputs": [
    {
     "name": "stdout",
     "output_type": "stream",
     "text": [
      "[1, 4, 9, 16, 25, 36, 49, 64, 81, 100, 121, 144, 169, 196]\n",
      "[1, 8, 27, 125]\n"
     ]
    }
   ],
   "source": [
    "square=[]\n",
    "cube=[]\n",
    "for i in range(1,201,1):\n",
    "    a=int(i**(1/2))\n",
    "    b=int(i**(1/3))\n",
    "    if i**(1/2)==a:\n",
    "        square.append(i)\n",
    "    if i**(1/3)==b:\n",
    "        cube.append(i)\n",
    "print(square)\n",
    "print(cube)"
   ]
  },
  {
   "cell_type": "code",
   "execution_count": null,
   "id": "4beb0b52-87b3-4466-b72c-5074684849a6",
   "metadata": {},
   "outputs": [],
   "source": [
    "l1=['Akanksha','archit','aryan','kanka','lomesh','tushar','vinit']\n",
    "for i in l1:\n",
    "    print(i,':',len(i))"
   ]
  },
  {
   "cell_type": "code",
   "execution_count": 63,
   "id": "1726539e-e8e1-4511-bf3e-b0c411d43639",
   "metadata": {},
   "outputs": [
    {
     "name": "stdout",
     "output_type": "stream",
     "text": [
      "what occur 1\n",
      "is occur 2\n",
      "sql occur 1\n",
      "and occur 3\n",
      "why occur 1\n",
      "is occur 2\n",
      "it occur 1\n",
      "important occur 1\n",
      "in occur 2\n",
      "data occur 2\n",
      "science occur 1\n",
      "and occur 3\n",
      "explain occur 1\n",
      "the occur 1\n",
      "difference occur 1\n",
      "between occur 1\n",
      "a occur 14\n",
      "database occur 1\n",
      "and occur 3\n",
      "a occur 14\n",
      "table occur 1\n"
     ]
    }
   ],
   "source": [
    "st1=\"what is sql and why is it important in data science and explain the difference between a database and a table\"\n",
    "word=st1.split(\" \")\n",
    "for i in word:\n",
    "    print(i,'occur',st1.count(i))"
   ]
  },
  {
   "cell_type": "code",
   "execution_count": 33,
   "id": "befa8331-36f8-449c-af74-e33625964c03",
   "metadata": {},
   "outputs": [
    {
     "name": "stdout",
     "output_type": "stream",
     "text": [
      "Akanksha\n"
     ]
    }
   ],
   "source": [
    "names=['Akanksha','archit','aryan','kanka','lomesh','tushar','vinit']\n",
    "a=names.sort(key=len)\n",
    "print(names[-1])"
   ]
  },
  {
   "cell_type": "code",
   "execution_count": 46,
   "id": "072af248-48a5-4760-be95-9e3a0bb9ad2c",
   "metadata": {},
   "outputs": [
    {
     "name": "stdout",
     "output_type": "stream",
     "text": [
      "*    *\n",
      " *  *\n",
      "  *\n",
      " * *\n",
      "*   *\n",
      "\n"
     ]
    }
   ],
   "source": [
    "print('''*    *\n",
    " *  *\n",
    "  *\n",
    " * *\n",
    "*   *\n",
    "''')"
   ]
  },
  {
   "cell_type": "code",
   "execution_count": null,
   "id": "3b505f40-24a2-4bb3-ae62-e524e624ffb5",
   "metadata": {},
   "outputs": [],
   "source": []
  },
  {
   "cell_type": "code",
   "execution_count": 48,
   "id": "421d947e-35e7-40b8-b7bc-4c09090fd27b",
   "metadata": {},
   "outputs": [
    {
     "name": "stdout",
     "output_type": "stream",
     "text": [
      "* * * \n",
      "* * * \n",
      "* * * \n",
      "* * * \n",
      "* * * \n",
      "* * * \n",
      "* * * \n",
      "* * * \n"
     ]
    }
   ],
   "source": [
    "for i in range(0,8):\n",
    "    for j in range(0,3):\n",
    "        print('* ',end=\"\")\n",
    "    print()"
   ]
  },
  {
   "cell_type": "code",
   "execution_count": null,
   "id": "4d23775b-74b9-45a2-b216-7e595424b7ab",
   "metadata": {},
   "outputs": [],
   "source": []
  },
  {
   "cell_type": "code",
   "execution_count": null,
   "id": "2106ca29-8e3d-410c-9674-b4e28f2eb021",
   "metadata": {},
   "outputs": [],
   "source": [
    "# *    *\n",
    "#  *  *\n",
    "#   *\n",
    "#  * *\n",
    "# *   *\n"
   ]
  }
 ],
 "metadata": {
  "kernelspec": {
   "display_name": "Python 3 (ipykernel)",
   "language": "python",
   "name": "python3"
  },
  "language_info": {
   "codemirror_mode": {
    "name": "ipython",
    "version": 3
   },
   "file_extension": ".py",
   "mimetype": "text/x-python",
   "name": "python",
   "nbconvert_exporter": "python",
   "pygments_lexer": "ipython3",
   "version": "3.12.4"
  }
 },
 "nbformat": 4,
 "nbformat_minor": 5
}

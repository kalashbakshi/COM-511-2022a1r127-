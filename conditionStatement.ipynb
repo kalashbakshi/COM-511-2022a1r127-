{
 "cells": [
  {
   "cell_type": "code",
   "execution_count": null,
   "id": "881ff5b0-6c5e-431c-95d2-2b4b15cb1ab4",
   "metadata": {},
   "outputs": [],
   "source": [
    "#if x is more than 100 and odd calculate square\n",
    "#if x is more than 100 and even calculate square root\n",
    "#if x is less than 100 and odd calculate cube\n",
    "#if x is less than 100 and even calculate cube root\n",
    "#else:print x is equals to 100"
   ]
  },
  {
   "cell_type": "code",
   "execution_count": 5,
   "id": "f53af598-5d6e-43d9-9fb1-e237a3df7700",
   "metadata": {},
   "outputs": [
    {
     "name": "stdin",
     "output_type": "stream",
     "text": [
      "Enter the number 45\n"
     ]
    },
    {
     "name": "stdout",
     "output_type": "stream",
     "text": [
      "91125.0\n"
     ]
    }
   ],
   "source": [
    "x= float(input(\"Enter the number\"))\n",
    "if x>100 and x%2!=0:\n",
    "    print(x*x)\n",
    "elif x>100 and x%2==0:\n",
    "    print(x**(1/2))\n",
    "elif x<100 and x%2!=0:\n",
    "    print(x**3)   \n",
    "elif x<100 and x%2==0:\n",
    "    print(x**(1/3))\n",
    "else:\n",
    "    print(x,\"equals to 100\")"
   ]
  },
  {
   "cell_type": "code",
   "execution_count": 6,
   "id": "0610f78f-4972-48ef-accd-b1f960bf4aa5",
   "metadata": {},
   "outputs": [
    {
     "name": "stdout",
     "output_type": "stream",
     "text": [
      "x is bool\n"
     ]
    }
   ],
   "source": [
    "# check the datatype of x using condition statement\n",
    "x=True # you can change to check x\n",
    "if type(x)==float:\n",
    "    print(\"x is float\")\n",
    "elif type(x)==int:\n",
    "    print(\"x is int\")\n",
    "elif type(x)==str:\n",
    "    print(\"x is string\")\n",
    "else:\n",
    "    print(\"x is bool\")"
   ]
  },
  {
   "cell_type": "markdown",
   "id": "ba95dc27-f4e4-4912-8445-199ea1c4fe2a",
   "metadata": {},
   "source": [
    "# STRING"
   ]
  },
  {
   "cell_type": "code",
   "execution_count": 8,
   "id": "be005943-e9f4-4e6c-bb76-40864b809cc7",
   "metadata": {},
   "outputs": [
    {
     "name": "stdin",
     "output_type": "stream",
     "text": [
      "enter the string kalash\n"
     ]
    },
    {
     "name": "stdout",
     "output_type": "stream",
     "text": [
      "does not starts with a\n"
     ]
    }
   ],
   "source": [
    "#check if the s is starts with a\n",
    "s= input(\"enter the string\")\n",
    "if s[0]==\"a\":\n",
    "    print(\"string starts with a\")\n",
    "else:\n",
    "    print(\"does not starts with a\")"
   ]
  },
  {
   "cell_type": "code",
   "execution_count": 9,
   "id": "27ecd846-c717-4c5b-9913-708c220137c8",
   "metadata": {},
   "outputs": [
    {
     "name": "stdin",
     "output_type": "stream",
     "text": [
      "enter the string apple\n"
     ]
    },
    {
     "name": "stdout",
     "output_type": "stream",
     "text": [
      "string ends with e\n"
     ]
    }
   ],
   "source": [
    "#check if the s is ends with e\n",
    "s= input(\"enter the string\")\n",
    "if s[-1]==\"e\":\n",
    "    print(\"string ends with e\")\n",
    "else:\n",
    "    print(\"does not ends with e\")"
   ]
  },
  {
   "cell_type": "code",
   "execution_count": 11,
   "id": "3cc112c2-4a68-4812-8337-e9824b0bfd27",
   "metadata": {},
   "outputs": [
    {
     "name": "stdin",
     "output_type": "stream",
     "text": [
      "enter the string apple\n"
     ]
    },
    {
     "name": "stdout",
     "output_type": "stream",
     "text": [
      "no condition\n"
     ]
    }
   ],
   "source": [
    "s= input(\"enter the string\")\n",
    "if s[0]==\"a\" and s[-1]==\"a\":\n",
    "    print(\"string starts with a and ends with a\")\n",
    "elif s[0]==\"a\" and s[-1]==\"r\":\n",
    "     print(\"string starts with a and ends with r\")\n",
    "if s[0]!=\"a\" and s[-1]==\"a\":\n",
    "     print(\"string not starts and ends with a\")\n",
    "else:\n",
    "    print(\"no condition\")"
   ]
  },
  {
   "cell_type": "code",
   "execution_count": 12,
   "id": "150e42d9-7486-426c-91c3-45f3fb7b48e6",
   "metadata": {},
   "outputs": [
    {
     "name": "stdin",
     "output_type": "stream",
     "text": [
      "enter string Kalash\n"
     ]
    },
    {
     "name": "stdout",
     "output_type": "stream",
     "text": [
      "1st letter is upercase\n"
     ]
    }
   ],
   "source": [
    "s=input(\"enter string\")\n",
    "if s[0]==s[0].upper():\n",
    "    print(\"1st letter is upercase\")\n",
    "else:\n",
    "    print(\"lowercase\")\n",
    "          "
   ]
  },
  {
   "cell_type": "code",
   "execution_count": 13,
   "id": "82b3d5f2-db49-4743-8c96-66f2c2cf0dab",
   "metadata": {},
   "outputs": [
    {
     "name": "stdin",
     "output_type": "stream",
     "text": [
      "enter string kalash\n"
     ]
    },
    {
     "name": "stdout",
     "output_type": "stream",
     "text": [
      "lowercase\n"
     ]
    }
   ],
   "source": [
    "s=input(\"enter string\")\n",
    "if s[0]==s[0].isupper():\n",
    "    print(\"1st letter is upercase\")\n",
    "else:\n",
    "    print(\"lowercase\")\n",
    "          "
   ]
  },
  {
   "cell_type": "code",
   "execution_count": 14,
   "id": "39abfe41-3e1a-405a-a9e6-306acbc29997",
   "metadata": {},
   "outputs": [
    {
     "name": "stdin",
     "output_type": "stream",
     "text": [
      "enter string kalash\n"
     ]
    },
    {
     "name": "stdout",
     "output_type": "stream",
     "text": [
      "Length of string is less than 6\n"
     ]
    }
   ],
   "source": [
    "s=input(\"enter string\")\n",
    "if len(s)>6:\n",
    "    print(\"Length of string is greater than 6\")\n",
    "else:\n",
    "    print(\"Length of string is less than 6\")\n",
    "          "
   ]
  },
  {
   "cell_type": "code",
   "execution_count": 16,
   "id": "b202c379-1baf-49eb-b2ff-19b45366b02e",
   "metadata": {},
   "outputs": [
    {
     "name": "stdin",
     "output_type": "stream",
     "text": [
      "enter string kalashBakshi CSE\n"
     ]
    },
    {
     "name": "stdout",
     "output_type": "stream",
     "text": [
      "count= 1\n"
     ]
    }
   ],
   "source": [
    "# spaces count\n",
    "s=input(\"enter string\")\n",
    "count=0\n",
    "for i in range(len(s)):\n",
    "    if s[i]==\" \":\n",
    "        count+=1\n",
    "print(\"count=\",count)\n",
    "    \n",
    "          "
   ]
  },
  {
   "cell_type": "markdown",
   "id": "84b9d2e8-301b-43f2-81ca-009fab09e972",
   "metadata": {},
   "source": [
    "# Nested If"
   ]
  },
  {
   "cell_type": "code",
   "execution_count": 7,
   "id": "dd7130ce-8fa7-41c5-bbfb-70f3e9f18560",
   "metadata": {},
   "outputs": [
    {
     "name": "stdin",
     "output_type": "stream",
     "text": [
      "age  11\n"
     ]
    },
    {
     "name": "stdout",
     "output_type": "stream",
     "text": [
      "teenager\n",
      "minor\n",
      "Kid\n"
     ]
    }
   ],
   "source": [
    "age = int(input(\"age \"))\n",
    "if age<18:\n",
    "    print(\"teenager\")\n",
    "if age<16:\n",
    "    print(\"minor\")\n",
    "if age<12:\n",
    "    print(\"Kid\")"
   ]
  },
  {
   "cell_type": "code",
   "execution_count": 12,
   "id": "33f55c6a-4fc0-43f9-a3ce-f1c2042acc64",
   "metadata": {},
   "outputs": [
    {
     "name": "stdin",
     "output_type": "stream",
     "text": [
      "Enter the name of the shape cube\n",
      "Enter you want in cube area\n"
     ]
    },
    {
     "name": "stdout",
     "output_type": "stream",
     "text": [
      "area of cube is ==> 6*side**2\n"
     ]
    }
   ],
   "source": [
    "name=input(\"Enter the name of the shape\")\n",
    "if name.lower()==\"triangle\":\n",
    "    g=input(\"Enter what you want in triangle\")\n",
    "    if g.lower()==\"area\":\n",
    "        print(\"area of triangle is ==>1/2*b*h\")\n",
    "    elif g.lower()==\"perimeter\":\n",
    "        print(\"perimeter of triangle is A+B+C\")\n",
    "elif name.lower()==\"cube\":\n",
    "    g=input(\"Enter you want in cube\")\n",
    "    if g.lower()==\"area\":\n",
    "        print(\"area of cube is ==> 6*side**2\")\n",
    "    elif g.lower()==\"perimeter\":\n",
    "        print(\"perimeter of cube is 12*side\")\n",
    "elif name.lower()==\"cylinder\":\n",
    "    g=input(\"Enter you want in cylinder\")\n",
    "    if g.lower()==\"area\":\n",
    "        print(\"area of cylinder is ==> 2*pi*r*h + 2*pi*r**2\")\n",
    "    elif g.lower()==\"perimeter\":\n",
    "        print(\"perimeter of cylinder is 4*r + 2*h\")\n",
    "    elif g.lower()==\"volume\":\n",
    "        print(\"perimeter of volume is pi*r**2*h\")\n",
    "elif name.lower()==\"cuboid\":\n",
    "    g=input(\"Enter you want in cuboid\")\n",
    "    if g.lower()==\"area\":\n",
    "        print(\"area of cuboid is ==> 2*l*w + 2*w*h + 2*l*h\")\n",
    "    elif g.lower()==\"perimeter\":\n",
    "        print(\"perimeter of cuboid is 4*(l+b+h)\")\n",
    "    elif g.lower()==\"volume\":\n",
    "        print(\"volume of cuboid is l*b*h\")"
   ]
  },
  {
   "cell_type": "code",
   "execution_count": 13,
   "id": "cff9801c-17c6-4e63-8db5-558468140c90",
   "metadata": {},
   "outputs": [
    {
     "name": "stdin",
     "output_type": "stream",
     "text": [
      "Enter the name of the shape triangle\n",
      "Enter you want in triangle area\n",
      "Enter the height :  6\n",
      "Enter the breadth :  6\n"
     ]
    },
    {
     "name": "stdout",
     "output_type": "stream",
     "text": [
      "area of triangle is : 18.0\n"
     ]
    }
   ],
   "source": [
    "name=input(\"Enter the name of the shape\")\n",
    "if name.lower()==\"triangle\":\n",
    "    g=input(\"Enter you want in triangle\")\n",
    "    if g.lower()==\"area\":\n",
    "        h=float(input(\"Enter the height : \"))\n",
    "        b=float(input(\"Enter the breadth : \"))\n",
    "        print(\"area of triangle is :\",1/2*b*h)\n",
    "    elif g.lower()==\"perimeter\":\n",
    "        a=float(input(\"Enter the a : \"))\n",
    "        b=float(input(\"Enter the b : \"))\n",
    "        c=float(input(\"Enter the c : \"))\n",
    "        print(\"perimeter of triangle is :\",a+b+c)"
   ]
  },
  {
   "cell_type": "code",
   "execution_count": null,
   "id": "415efa9d-f7e7-480a-8f99-33ddcdc42e20",
   "metadata": {},
   "outputs": [],
   "source": [
    " name=input(\"Enter the name of the shape\")\n",
    "if name.lower()==\"triangle\":\n",
    "    g=input(\"Enter you want in triangle\")\n",
    "    if g.lower()==\"area\":\n",
    "        permission=input('if you want to calculate then yes for formula no')\n",
    "        if permission.lower()=='yes':\n",
    "            print(\"area of triangle is : 1/2*b*h\")\n",
    "        else:\n",
    "            print(\"area of triangle is :\",1/2*b*h)\n",
    "    elif g.lower()==\"perimeter\":\n",
    "        print(\"perimeter of triangle is A+B+C\")\n",
    "\n",
    "\n",
    "\n",
    "elif name.lower()==\"cube\":\n",
    "    g=input(\"Enter you want in cube\")\n",
    "    if g.lower()==\"area\":\n",
    "        permission=input('if you want to calculate then yes for formula no')\n",
    "        if permission.lower()=='yes':\n",
    "          print(\"area of cube is ==> 6*side**2\")\n",
    "    elif g.lower()==\"perimeter\":\n",
    "        print(\"perimeter of cube is 12*side\")\n",
    "\n",
    "\n",
    "\n",
    "\n",
    "elif name.lower()==\"cylinder\":\n",
    "    g=input(\"Enter you want in cylinder\")\n",
    "    if g.lower()==\"area\":\n",
    "        print(\"total surface area of cylinder is ==> 2*pi*r*h + 2*pi*r**2\")\n",
    "    elif g.lower()==\"perimeter\":\n",
    "        print(\"perimeter of cylinder is 4*r + 2*h\")\n",
    "    elif g.lower()==\"volume\":\n",
    "        print(\"perimeter of volume is pi*r**2*h\")\n",
    "\n",
    "\n",
    "\n",
    "elif name.lower()==\"cuboid\":\n",
    "    g=input(\"Enter you want in cuboid\")\n",
    "    if g.lower()==\"area\":\n",
    "        print(\"total surface area of cuboid is ==> 2*l*b + 2*b*h + 2*l*h\")\n",
    "    elif g.lower()==\"perimeter\":\n",
    "        print(\"perimeter of cuboid is 4*(l+b+h)\")\n",
    "    elif g.lower()==\"volume\":\n",
    "        print(\"volume of cuboid is l*b*h\")"
   ]
  },
  {
   "cell_type": "code",
   "execution_count": null,
   "id": "6eee2e94-57a2-4b0b-9cac-1c6feb20f3ef",
   "metadata": {},
   "outputs": [],
   "source": []
  }
 ],
 "metadata": {
  "kernelspec": {
   "display_name": "Python 3 (ipykernel)",
   "language": "python",
   "name": "python3"
  },
  "language_info": {
   "codemirror_mode": {
    "name": "ipython",
    "version": 3
   },
   "file_extension": ".py",
   "mimetype": "text/x-python",
   "name": "python",
   "nbconvert_exporter": "python",
   "pygments_lexer": "ipython3",
   "version": "3.12.4"
  }
 },
 "nbformat": 4,
 "nbformat_minor": 5
}

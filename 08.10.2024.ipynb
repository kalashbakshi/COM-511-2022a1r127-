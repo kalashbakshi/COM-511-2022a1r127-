{
 "cells": [
  {
   "cell_type": "code",
   "execution_count": 38,
   "id": "3ea018b5-f92a-46a7-8344-6ae9c6315992",
   "metadata": {},
   "outputs": [],
   "source": [
    "# concat two list\n",
    "def con(l1,l2):\n",
    "    return l1+l2"
   ]
  },
  {
   "cell_type": "code",
   "execution_count": 39,
   "id": "cd20efb8-c454-4f7c-b52f-7200881450cd",
   "metadata": {},
   "outputs": [
    {
     "data": {
      "text/plain": [
       "[1, 2, 3, 4, 5, 6]"
      ]
     },
     "execution_count": 39,
     "metadata": {},
     "output_type": "execute_result"
    }
   ],
   "source": [
    "l1=[1,2,3]\n",
    "l2=[4,5,6]\n",
    "con(l1,l2)"
   ]
  },
  {
   "cell_type": "code",
   "execution_count": 40,
   "id": "97b4ad1e-d623-4e37-808d-4ca1a95db3af",
   "metadata": {},
   "outputs": [],
   "source": [
    "#sum of list\n",
    "def sum_list(l1):\n",
    "    sum=0\n",
    "    for i in l1:\n",
    "        sum=sum+i\n",
    "    return sum"
   ]
  },
  {
   "cell_type": "code",
   "execution_count": 41,
   "id": "5840cf09-3186-4f73-8dde-e6e3ea7cb91f",
   "metadata": {},
   "outputs": [
    {
     "data": {
      "text/plain": [
       "6"
      ]
     },
     "execution_count": 41,
     "metadata": {},
     "output_type": "execute_result"
    }
   ],
   "source": [
    "sum_list(l1)"
   ]
  },
  {
   "cell_type": "code",
   "execution_count": 42,
   "id": "1629ed95-2b68-455c-b2f5-8120b7ebbad2",
   "metadata": {},
   "outputs": [],
   "source": [
    "#find sum of all positive integers in list\n",
    "def sum_list_pos(l1):\n",
    "    sum=0\n",
    "    for i in l1:\n",
    "        if(i>0):\n",
    "            sum+=i\n",
    "    return sum"
   ]
  },
  {
   "cell_type": "code",
   "execution_count": 43,
   "id": "69794b9c-6338-4c63-ac69-f7bb9b991a28",
   "metadata": {},
   "outputs": [
    {
     "data": {
      "text/plain": [
       "3"
      ]
     },
     "execution_count": 43,
     "metadata": {},
     "output_type": "execute_result"
    }
   ],
   "source": [
    "l1=[1,-2,2]\n",
    "sum_list_pos(l1)"
   ]
  },
  {
   "cell_type": "code",
   "execution_count": 44,
   "id": "64757e55-cfcd-4ff3-aa91-f431e12f2b51",
   "metadata": {},
   "outputs": [],
   "source": [
    "#count the number of positive elements\n",
    "def count_pos(l1):\n",
    "    count=0\n",
    "    for i in l1:\n",
    "        if i>=0:\n",
    "            count+=1\n",
    "    return count"
   ]
  },
  {
   "cell_type": "code",
   "execution_count": 45,
   "id": "47f659f4-f73f-4663-bed0-72a2194d5e4b",
   "metadata": {},
   "outputs": [
    {
     "data": {
      "text/plain": [
       "2"
      ]
     },
     "execution_count": 45,
     "metadata": {},
     "output_type": "execute_result"
    }
   ],
   "source": [
    "count_pos(l1)"
   ]
  },
  {
   "cell_type": "code",
   "execution_count": 46,
   "id": "acb31114-08d3-4972-a4fc-6855108e4bfd",
   "metadata": {},
   "outputs": [],
   "source": [
    "#print a greeting message using define function\n",
    "def greeting(l1):\n",
    "    for i in l1:\n",
    "        print('Good Morning',i)"
   ]
  },
  {
   "cell_type": "code",
   "execution_count": 47,
   "id": "96b56aaa-2f82-467e-a7b3-f675a76e8701",
   "metadata": {},
   "outputs": [
    {
     "name": "stdout",
     "output_type": "stream",
     "text": [
      "Good Morning Aniket\n",
      "Good Morning Aditya\n",
      "Good Morning Kalash\n"
     ]
    }
   ],
   "source": [
    "lis=['Aniket','Aditya','Kalash']\n",
    "greeting(lis)"
   ]
  },
  {
   "cell_type": "code",
   "execution_count": 57,
   "id": "50ea5e1d-0f42-47cf-b3d7-ba896973be45",
   "metadata": {},
   "outputs": [],
   "source": [
    "# function ro calculate the tax and income in hand using following points\n",
    "def calculate(val):\n",
    "    in_hand=0\n",
    "    if val >= 0 and val<250000:\n",
    "        print('Tax = NIL')\n",
    "        in_hand=val\n",
    "        print('Income in hand =',in_hand)\n",
    "    elif val >=250000 and val<500000:\n",
    "        print('Tax = 5%')\n",
    "        in_hand=val-(5/100)*val\n",
    "        print('Income in hand =',in_hand)\n",
    "    elif val >=500000 and val<750000:\n",
    "        print('Tax = 10%')\n",
    "        in_hand=val-(10/100)*val\n",
    "        print('Income in hand =',in_hand)\n",
    "    elif val >=750000 and val<1000000:\n",
    "        print('Tax = 15%')\n",
    "        in_hand=val-(15/100)*val\n",
    "        print('Income in hand =',in_hand)\n",
    "    elif val >=1000000 and val<1250000:\n",
    "        print('Tax = 20%')\n",
    "        in_hand=val-(20/100)*val\n",
    "        print('Income in hand =',in_hand)\n",
    "    elif val >=1250000 and val<1500000:\n",
    "        print('Tax = 25%')\n",
    "        in_hand=val-(25/100)*val\n",
    "        print('Income in hand =',in_hand)\n",
    "    elif val >=1500000:\n",
    "        print('Tax = 30%')\n",
    "        in_hand=val-(30/100)*val\n",
    "        print('Income in hand =',in_hand)"
   ]
  },
  {
   "cell_type": "code",
   "execution_count": null,
   "id": "a0abbd0b-d245-472f-8710-ab6411e2896a",
   "metadata": {},
   "outputs": [],
   "source": [
    "calculate(1500000)"
   ]
  },
  {
   "cell_type": "code",
   "execution_count": null,
   "id": "d2c5012b-bb98-4ce3-bbc7-667f9e057a5f",
   "metadata": {},
   "outputs": [],
   "source": []
  }
 ],
 "metadata": {
  "kernelspec": {
   "display_name": "Python 3 (ipykernel)",
   "language": "python",
   "name": "python3"
  },
  "language_info": {
   "codemirror_mode": {
    "name": "ipython",
    "version": 3
   },
   "file_extension": ".py",
   "mimetype": "text/x-python",
   "name": "python",
   "nbconvert_exporter": "python",
   "pygments_lexer": "ipython3",
   "version": "3.12.4"
  }
 },
 "nbformat": 4,
 "nbformat_minor": 5
}

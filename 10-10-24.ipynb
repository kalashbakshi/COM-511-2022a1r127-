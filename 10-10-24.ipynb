{
 "cells": [
  {
   "cell_type": "code",
   "execution_count": 17,
   "id": "65ba8545-ddfc-48cd-b40d-903c13991fbf",
   "metadata": {},
   "outputs": [],
   "source": [
    "def calculate(cal):\n",
    "    if cal=='circle':\n",
    "        val=input('what you want to find : ')\n",
    "        r=float(input('Enter radius : '))\n",
    "        if val=='area':\n",
    "            return (22/7)*(r*2)\n",
    "        elif val=='perimeter':\n",
    "            return (22/7)*2*r\n",
    "    elif cal=='triangle':\n",
    "        val=input('what you want to find : ')\n",
    "        if val=='area':\n",
    "            b=float(input('Enter the value for b : '))\n",
    "            h=float(input('Enter the value for h : '))\n",
    "            return 0.5*b*h\n",
    "        elif val=='perimeter':\n",
    "            a=float(input('Enter the value for a : '))\n",
    "            b=float(input('Enter the value for b : '))\n",
    "            c=float(input('Enter the value for c : '))\n",
    "            return a+b+c\n",
    "    elif cal=='cylinder':\n",
    "        val=input('what you want to find : ')\n",
    "        if val=='volume':\n",
    "            r=float(input('Enter the value for r : '))\n",
    "            h=float(input('Enter the value for h : '))\n",
    "            return (22/7)*(r*2)*h\n",
    "        elif val=='surface area':\n",
    "            r=float(input('Enter the value for r : '))\n",
    "            h=float(input('Enter the value for h : '))\n",
    "            return 2*(22/7)*r*(r+h)"
   ]
  },
  {
   "cell_type": "code",
   "execution_count": 18,
   "id": "5a722616-0f25-4720-b8ba-36cbf0506102",
   "metadata": {},
   "outputs": [
    {
     "name": "stdin",
     "output_type": "stream",
     "text": [
      "Enter the shape :  triangle\n",
      "what you want to find :  area\n",
      "Enter the value for b :  4\n",
      "Enter the value for h :  6\n"
     ]
    },
    {
     "data": {
      "text/plain": [
       "12.0"
      ]
     },
     "execution_count": 18,
     "metadata": {},
     "output_type": "execute_result"
    }
   ],
   "source": [
    "cal=input('Enter the shape : ')\n",
    "calculate(cal)"
   ]
  },
  {
   "cell_type": "code",
   "execution_count": null,
   "id": "fbf6f372-d25a-4d69-9d35-4a1265aec93e",
   "metadata": {},
   "outputs": [],
   "source": [
    "Define Function:\n",
    "A defined function is a block of reusable code that performs a specific task.\n",
    "It's like having a mini-program within your larger program.\n",
    "\n",
    "Function Name\n",
    "This is the name you give to your function.It should be descriptive and indicative of what the function does.\n",
    "\n",
    "Parameters (or Arguments):\n",
    "These are optinal inputs that you can pass into the function.\n",
    "They act as placeholders for the values you want to work inside the function.\n",
    "\n",
    "Function Body:\n",
    "This is where you write the actual code that performs the task you \n",
    "want the function to do.It can be as simple or as complex as you need it to be .\n",
    "\n",
    "Return statement:\n",
    "This is optional.If your function needs to produce an output,\n",
    "you use the return statement to specify what value the function should return when it's called."
   ]
  }
 ],
 "metadata": {
  "kernelspec": {
   "display_name": "Python 3 (ipykernel)",
   "language": "python",
   "name": "python3"
  },
  "language_info": {
   "codemirror_mode": {
    "name": "ipython",
    "version": 3
   },
   "file_extension": ".py",
   "mimetype": "text/x-python",
   "name": "python",
   "nbconvert_exporter": "python",
   "pygments_lexer": "ipython3",
   "version": "3.12.4"
  }
 },
 "nbformat": 4,
 "nbformat_minor": 5
}

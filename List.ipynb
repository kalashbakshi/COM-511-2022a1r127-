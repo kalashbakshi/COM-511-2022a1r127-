{
 "cells": [
  {
   "cell_type": "markdown",
   "id": "17ed2c65-a5bd-4a01-b890-f22e512b97fb",
   "metadata": {},
   "source": [
    "# LIST"
   ]
  },
  {
   "cell_type": "markdown",
   "id": "36524de4-72a0-42e2-89ba-67d389d333a8",
   "metadata": {},
   "source": [
    "it is an ordered collection of elements which is mutable and can store all types of data"
   ]
  },
  {
   "cell_type": "code",
   "execution_count": 49,
   "id": "21475033-2965-4871-942a-f35dc636ce87",
   "metadata": {},
   "outputs": [],
   "source": [
    "w=[]"
   ]
  },
  {
   "cell_type": "code",
   "execution_count": 50,
   "id": "81526a65-1d20-4026-924e-b9851c92da75",
   "metadata": {},
   "outputs": [
    {
     "data": {
      "text/plain": [
       "list"
      ]
     },
     "execution_count": 50,
     "metadata": {},
     "output_type": "execute_result"
    }
   ],
   "source": [
    "type(w)"
   ]
  },
  {
   "cell_type": "code",
   "execution_count": 51,
   "id": "d81136c2-8566-4fe8-a04e-971edfa3016d",
   "metadata": {},
   "outputs": [],
   "source": [
    "w=[0,1,2,3,5,9,20,11,25]"
   ]
  },
  {
   "cell_type": "code",
   "execution_count": 52,
   "id": "ff758b71-02c1-4266-a5ba-fbce8b134f31",
   "metadata": {},
   "outputs": [
    {
     "data": {
      "text/plain": [
       "[0, 1, 2, 3, 5, 9, 20, 11, 25]"
      ]
     },
     "execution_count": 52,
     "metadata": {},
     "output_type": "execute_result"
    }
   ],
   "source": [
    "w"
   ]
  },
  {
   "cell_type": "code",
   "execution_count": 53,
   "id": "f4ae7d05-1366-4e48-8f51-851f40d3fca7",
   "metadata": {},
   "outputs": [],
   "source": [
    "w.append(88)\n",
    "#append used for adding value in the end"
   ]
  },
  {
   "cell_type": "code",
   "execution_count": 54,
   "id": "43893723-dc31-45b9-93f6-c229c21b5f32",
   "metadata": {},
   "outputs": [
    {
     "data": {
      "text/plain": [
       "[0, 1, 2, 3, 5, 9, 20, 11, 25, 88]"
      ]
     },
     "execution_count": 54,
     "metadata": {},
     "output_type": "execute_result"
    }
   ],
   "source": [
    "w"
   ]
  },
  {
   "cell_type": "code",
   "execution_count": 55,
   "id": "3495e098-b40b-4cc0-a2a0-58371758b603",
   "metadata": {},
   "outputs": [],
   "source": [
    "q=[1,1.5,\"string\",True,[1,2,3,\"new\",False]]"
   ]
  },
  {
   "cell_type": "code",
   "execution_count": 56,
   "id": "86c0821c-e557-4513-88eb-ae22bfc5e9b2",
   "metadata": {},
   "outputs": [
    {
     "data": {
      "text/plain": [
       "[1, 1.5, 'string', True, [1, 2, 3, 'new', False]]"
      ]
     },
     "execution_count": 56,
     "metadata": {},
     "output_type": "execute_result"
    }
   ],
   "source": [
    "q"
   ]
  },
  {
   "cell_type": "code",
   "execution_count": 83,
   "id": "43b23e36-eee9-48ab-8893-51aa548de79b",
   "metadata": {},
   "outputs": [],
   "source": [
    "K1=[0,1,2,3,4,5,6,7,8,9,10]"
   ]
  },
  {
   "cell_type": "code",
   "execution_count": 58,
   "id": "0df8c890-af11-4e67-8c70-3857194f7908",
   "metadata": {},
   "outputs": [
    {
     "data": {
      "text/plain": [
       "11"
      ]
     },
     "execution_count": 58,
     "metadata": {},
     "output_type": "execute_result"
    }
   ],
   "source": [
    "#print the number of elements\n",
    "len(K1)"
   ]
  },
  {
   "cell_type": "code",
   "execution_count": 59,
   "id": "080dfc86-3273-40d7-8962-01b927f2b08f",
   "metadata": {},
   "outputs": [
    {
     "data": {
      "text/plain": [
       "1"
      ]
     },
     "execution_count": 59,
     "metadata": {},
     "output_type": "execute_result"
    }
   ],
   "source": [
    "#count the number of given elements\n",
    "K1.count(5)"
   ]
  },
  {
   "cell_type": "code",
   "execution_count": 60,
   "id": "a4ad2adc-67c4-40f3-8307-52640975805e",
   "metadata": {},
   "outputs": [],
   "source": [
    "# add the given element in the end of the list\n",
    "K1.append(900)"
   ]
  },
  {
   "cell_type": "code",
   "execution_count": 61,
   "id": "ce78b8fd-1333-4717-90ef-3cc838d6635c",
   "metadata": {},
   "outputs": [
    {
     "data": {
      "text/plain": [
       "[0, 1, 2, 3, 4, 5, 6, 7, 8, 9, 10, 900]"
      ]
     },
     "execution_count": 61,
     "metadata": {},
     "output_type": "execute_result"
    }
   ],
   "source": [
    "K1 "
   ]
  },
  {
   "cell_type": "code",
   "execution_count": 62,
   "id": "99d00618-080f-4240-89e1-2ec18f225425",
   "metadata": {},
   "outputs": [
    {
     "data": {
      "text/plain": [
       "900"
      ]
     },
     "execution_count": 62,
     "metadata": {},
     "output_type": "execute_result"
    }
   ],
   "source": [
    "# it print and remove the last element from the list\n",
    "K1.pop()"
   ]
  },
  {
   "cell_type": "code",
   "execution_count": 63,
   "id": "143f5829-c4a8-4a38-b794-536512552b0c",
   "metadata": {},
   "outputs": [],
   "source": [
    "K1.insert(11,54)"
   ]
  },
  {
   "cell_type": "code",
   "execution_count": 64,
   "id": "3da71125-0cea-43f8-aab2-011b849a5b6c",
   "metadata": {},
   "outputs": [
    {
     "data": {
      "text/plain": [
       "[0, 1, 2, 3, 4, 5, 6, 7, 8, 9, 10, 54]"
      ]
     },
     "execution_count": 64,
     "metadata": {},
     "output_type": "execute_result"
    }
   ],
   "source": [
    "K1"
   ]
  },
  {
   "cell_type": "code",
   "execution_count": 65,
   "id": "d79d3e4d-517e-49a4-bafa-f184f9769ef4",
   "metadata": {},
   "outputs": [],
   "source": [
    "K1.extend([2,3])"
   ]
  },
  {
   "cell_type": "code",
   "execution_count": 66,
   "id": "b835367c-a4ec-4a26-9569-693774709480",
   "metadata": {},
   "outputs": [
    {
     "data": {
      "text/plain": [
       "[0, 1, 2, 3, 4, 5, 6, 7, 8, 9, 10, 54, 2, 3]"
      ]
     },
     "execution_count": 66,
     "metadata": {},
     "output_type": "execute_result"
    }
   ],
   "source": [
    "K1"
   ]
  },
  {
   "cell_type": "code",
   "execution_count": 67,
   "id": "b63b78d8-1330-4c9e-8cbe-abe9fe6704df",
   "metadata": {},
   "outputs": [],
   "source": [
    "K1.remove(2)"
   ]
  },
  {
   "cell_type": "code",
   "execution_count": 68,
   "id": "bce61b40-cb75-4c1d-b737-1e9999ffc00b",
   "metadata": {},
   "outputs": [
    {
     "data": {
      "text/plain": [
       "[0, 1, 3, 4, 5, 6, 7, 8, 9, 10, 54, 2, 3]"
      ]
     },
     "execution_count": 68,
     "metadata": {},
     "output_type": "execute_result"
    }
   ],
   "source": [
    "K1"
   ]
  },
  {
   "cell_type": "code",
   "execution_count": 69,
   "id": "66d18a9b-e072-4854-a9d6-709eb0c84274",
   "metadata": {},
   "outputs": [],
   "source": [
    "K1.reverse()"
   ]
  },
  {
   "cell_type": "code",
   "execution_count": 70,
   "id": "53318a55-f970-4807-b690-c5ae96d39ec8",
   "metadata": {},
   "outputs": [
    {
     "data": {
      "text/plain": [
       "[3, 2, 54, 10, 9, 8, 7, 6, 5, 4, 3, 1, 0]"
      ]
     },
     "execution_count": 70,
     "metadata": {},
     "output_type": "execute_result"
    }
   ],
   "source": [
    "K1"
   ]
  },
  {
   "cell_type": "code",
   "execution_count": 71,
   "id": "7d725c7a-8257-4ee7-9c83-5e8278839c01",
   "metadata": {},
   "outputs": [],
   "source": [
    "K1.sort()"
   ]
  },
  {
   "cell_type": "code",
   "execution_count": 72,
   "id": "34afa985-bbcc-4995-ad99-152f28273483",
   "metadata": {},
   "outputs": [
    {
     "data": {
      "text/plain": [
       "[0, 1, 2, 3, 3, 4, 5, 6, 7, 8, 9, 10, 54]"
      ]
     },
     "execution_count": 72,
     "metadata": {},
     "output_type": "execute_result"
    }
   ],
   "source": [
    "K1"
   ]
  },
  {
   "cell_type": "code",
   "execution_count": 73,
   "id": "9bb87a46-16f5-4308-a135-4e8b096fa438",
   "metadata": {},
   "outputs": [],
   "source": [
    "K1.sort(reverse=True)"
   ]
  },
  {
   "cell_type": "code",
   "execution_count": 74,
   "id": "35610c4a-888e-4868-805e-e8a018bf164e",
   "metadata": {},
   "outputs": [
    {
     "data": {
      "text/plain": [
       "[54, 10, 9, 8, 7, 6, 5, 4, 3, 3, 2, 1, 0]"
      ]
     },
     "execution_count": 74,
     "metadata": {},
     "output_type": "execute_result"
    }
   ],
   "source": [
    "K1"
   ]
  },
  {
   "cell_type": "code",
   "execution_count": 76,
   "id": "19e39cc0-8e9d-46f4-819d-8c778bd2af93",
   "metadata": {},
   "outputs": [
    {
     "data": {
      "text/plain": [
       "8"
      ]
     },
     "execution_count": 76,
     "metadata": {},
     "output_type": "execute_result"
    }
   ],
   "source": [
    "K1.index(3,1)"
   ]
  },
  {
   "cell_type": "code",
   "execution_count": 79,
   "id": "e71badd3-b2b2-4430-8099-ae2095097422",
   "metadata": {},
   "outputs": [],
   "source": [
    "#\n",
    "K1.clear()"
   ]
  },
  {
   "cell_type": "code",
   "execution_count": 80,
   "id": "f8f4a793-add7-44e2-994c-382fe5fdc5fb",
   "metadata": {},
   "outputs": [
    {
     "data": {
      "text/plain": [
       "[]"
      ]
     },
     "execution_count": 80,
     "metadata": {},
     "output_type": "execute_result"
    }
   ],
   "source": [
    "K1"
   ]
  },
  {
   "cell_type": "code",
   "execution_count": 84,
   "id": "e5d6427f-5004-4500-95ff-4d5d0a1760bf",
   "metadata": {},
   "outputs": [],
   "source": [
    "K2=K1.copy()"
   ]
  },
  {
   "cell_type": "code",
   "execution_count": 85,
   "id": "76fd6fbc-16bb-4b08-8730-c504db4765c6",
   "metadata": {},
   "outputs": [
    {
     "data": {
      "text/plain": [
       "[0, 1, 2, 3, 4, 5, 6, 7, 8, 9, 10]"
      ]
     },
     "execution_count": 85,
     "metadata": {},
     "output_type": "execute_result"
    }
   ],
   "source": [
    "K2"
   ]
  },
  {
   "cell_type": "code",
   "execution_count": 93,
   "id": "ef3ca279-e631-4a99-bde0-5097cd4786a6",
   "metadata": {},
   "outputs": [],
   "source": [
    "K2[2]=False"
   ]
  },
  {
   "cell_type": "code",
   "execution_count": 95,
   "id": "fce67363-6430-4e15-83a0-30e6cadd3271",
   "metadata": {},
   "outputs": [
    {
     "data": {
      "text/plain": [
       "4"
      ]
     },
     "execution_count": 95,
     "metadata": {},
     "output_type": "execute_result"
    }
   ],
   "source": [
    "K2.index(4)"
   ]
  },
  {
   "cell_type": "code",
   "execution_count": 96,
   "id": "71c2bae4-18e7-4f04-99ce-bc81bacb22ab",
   "metadata": {},
   "outputs": [
    {
     "data": {
      "text/plain": [
       "[1, 1.5, 'string', True, [1, 2, 3, 'new', False]]"
      ]
     },
     "execution_count": 96,
     "metadata": {},
     "output_type": "execute_result"
    }
   ],
   "source": [
    "q"
   ]
  },
  {
   "cell_type": "code",
   "execution_count": 101,
   "id": "c7ebed67-6252-47d5-bafc-d67f3697917d",
   "metadata": {},
   "outputs": [
    {
     "data": {
      "text/plain": [
       "'new'"
      ]
     },
     "execution_count": 101,
     "metadata": {},
     "output_type": "execute_result"
    }
   ],
   "source": [
    "q[4][3]"
   ]
  },
  {
   "cell_type": "code",
   "execution_count": 102,
   "id": "873b1177-eb16-4f29-8609-a0acb0f77207",
   "metadata": {},
   "outputs": [
    {
     "data": {
      "text/plain": [
       "'new'"
      ]
     },
     "execution_count": 102,
     "metadata": {},
     "output_type": "execute_result"
    }
   ],
   "source": [
    "q[-1][-2]"
   ]
  },
  {
   "cell_type": "code",
   "execution_count": 103,
   "id": "4cfc10aa-1ef6-457b-9a9b-b63460f07aa4",
   "metadata": {},
   "outputs": [],
   "source": [
    "q[2]=7\n",
    "q[4][3]=5\n"
   ]
  },
  {
   "cell_type": "code",
   "execution_count": 104,
   "id": "2812de9d-b711-4d2c-8700-6b985f55149d",
   "metadata": {},
   "outputs": [
    {
     "data": {
      "text/plain": [
       "[1, 1.5, 7, True, [1, 2, 3, 5, False]]"
      ]
     },
     "execution_count": 104,
     "metadata": {},
     "output_type": "execute_result"
    }
   ],
   "source": [
    "q"
   ]
  },
  {
   "cell_type": "code",
   "execution_count": 112,
   "id": "c05100be-a0ea-4bfc-96d8-2b052746ec56",
   "metadata": {},
   "outputs": [],
   "source": [
    "r=[4,5,7,[4,2,0,3,5,'todey',4],478,'string']"
   ]
  },
  {
   "cell_type": "code",
   "execution_count": 115,
   "id": "9662ae36-bb73-424a-976c-cc971ab2d569",
   "metadata": {},
   "outputs": [],
   "source": [
    "r[3][5]=r[3][5].replace('e','a')"
   ]
  },
  {
   "cell_type": "code",
   "execution_count": 116,
   "id": "a8c96d94-9f7e-4491-a1cb-23ebbc9733df",
   "metadata": {},
   "outputs": [
    {
     "data": {
      "text/plain": [
       "[4, 5, 7, [4, 2, 0, 3, 5, 'today', 4], 478, 'string']"
      ]
     },
     "execution_count": 116,
     "metadata": {},
     "output_type": "execute_result"
    }
   ],
   "source": [
    "r"
   ]
  },
  {
   "cell_type": "code",
   "execution_count": null,
   "id": "e56c9516-9af6-4e48-a228-3424342a178a",
   "metadata": {},
   "outputs": [],
   "source": [
    "r"
   ]
  }
 ],
 "metadata": {
  "kernelspec": {
   "display_name": "Python 3 (ipykernel)",
   "language": "python",
   "name": "python3"
  },
  "language_info": {
   "codemirror_mode": {
    "name": "ipython",
    "version": 3
   },
   "file_extension": ".py",
   "mimetype": "text/x-python",
   "name": "python",
   "nbconvert_exporter": "python",
   "pygments_lexer": "ipython3",
   "version": "3.12.4"
  }
 },
 "nbformat": 4,
 "nbformat_minor": 5
}

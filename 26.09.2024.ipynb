{
 "cells": [
  {
   "cell_type": "raw",
   "id": "c3fd4e14-f0f1-4c0b-aac8-c83ad69fadbd",
   "metadata": {},
   "source": [
    "python is case senstive because python use UTF8(union transformation format) (Aa,a both are different) variable can start with character or _only"
   ]
  },
  {
   "cell_type": "markdown",
   "id": "14bdbe17-ffc5-4a6e-84d8-7d010fc86a99",
   "metadata": {},
   "source": [
    "variable can hold  only numerical,character and code"
   ]
  },
  {
   "cell_type": "markdown",
   "id": "0d11feb0-ed92-4173-b1bf-9b7899d7a6fe",
   "metadata": {},
   "source": [
    "variable can have any logical length"
   ]
  },
  {
   "cell_type": "markdown",
   "id": "d6abb9e0-d00d-41b5-bc00-5032fbda30b4",
   "metadata": {},
   "source": [
    "don't use reserved key word as a variable like (with,is,or,else,and)"
   ]
  },
  {
   "cell_type": "markdown",
   "id": "c6063506-f1ff-4dc9-9c49-e953b8230a9d",
   "metadata": {},
   "source": [
    "### 1.Indentation:\n",
    "Python uses indentation to indicate blocks of code.It is crucial for defining the scope of loops,functions,and conditional statements."
   ]
  },
  {
   "cell_type": "markdown",
   "id": "78b78a4f-1ac4-4cf5-84c4-9789528a6bfd",
   "metadata": {},
   "source": [
    "### 2.Variables and Naming Conventions:\n",
    "Variables names should be descriptive.\n",
    "Use lowercase with underscores for variables names (snake_case).\n",
    "Avoid using reserved words(e.g., if,else,while,etc.) as variable names.\n"
   ]
  },
  {
   "cell_type": "markdown",
   "id": "48901954-57b5-4a1b-8d8e-fd0952a60ea3",
   "metadata": {},
   "source": [
    "### 3.Commments:\n",
    "Use # for single-line comments and ' ' or \"\"\"\" \"\"\"\"for multi-line comments.\n"
   ]
  },
  {
   "cell_type": "markdown",
   "id": "8556f506-c6a3-46a8-9981-0630d7744a5b",
   "metadata": {},
   "source": [
    "### 4. Whitespace:\n",
    "Use whitespace effectively for better readibility.Avoid excessive spaces.\n",
    "ex:-   A=5 # avoid\n",
    "    a=5 # should follow\n"
   ]
  },
  {
   "cell_type": "markdown",
   "id": "2f58d84f-6632-4b26-ac7d-760b5d4b1ee5",
   "metadata": {},
   "source": [
    "Indexing and Slicing\n",
    "\n",
    " Indexing: **\" Indexing refers to accessing individual elements in a sequence using their position (index).In Python, indexing starts at 0.You can use square brackets [] to access elements at a specific index.\n",
    "\n",
    "Slicing: Slicing allows you "
   ]
  },
  {
   "cell_type": "code",
   "execution_count": null,
   "id": "1ab32eba-4374-4779-8277-3ca905ebe571",
   "metadata": {},
   "outputs": [],
   "source": []
  },
  {
   "cell_type": "code",
   "execution_count": null,
   "id": "5c24afbb-9170-479b-b1ef-6d93fe2f1ad9",
   "metadata": {},
   "outputs": [],
   "source": []
  },
  {
   "cell_type": "code",
   "execution_count": null,
   "id": "c33c7d4c-2097-4a42-bfd0-888ff194699d",
   "metadata": {},
   "outputs": [],
   "source": []
  }
 ],
 "metadata": {
  "kernelspec": {
   "display_name": "Python 3 (ipykernel)",
   "language": "python",
   "name": "python3"
  },
  "language_info": {
   "codemirror_mode": {
    "name": "ipython",
    "version": 3
   },
   "file_extension": ".py",
   "mimetype": "text/x-python",
   "name": "python",
   "nbconvert_exporter": "python",
   "pygments_lexer": "ipython3",
   "version": "3.12.4"
  }
 },
 "nbformat": 4,
 "nbformat_minor": 5
}

{
 "cells": [
  {
   "cell_type": "code",
   "execution_count": 1,
   "id": "6df7e60f-0625-4822-af96-b77425e555ad",
   "metadata": {},
   "outputs": [],
   "source": [
    "def add(a,b):\n",
    "    return a+b"
   ]
  },
  {
   "cell_type": "code",
   "execution_count": 2,
   "id": "73eb8368-4441-4831-8f98-50e196c16a50",
   "metadata": {},
   "outputs": [
    {
     "name": "stdout",
     "output_type": "stream",
     "text": [
      "8\n"
     ]
    }
   ],
   "source": [
    "print(add(3,5))"
   ]
  },
  {
   "cell_type": "code",
   "execution_count": 3,
   "id": "66e2fee9-eb5d-4665-89de-dd39a2771bcf",
   "metadata": {},
   "outputs": [],
   "source": [
    "def cube(a):\n",
    "    return a**3\n",
    "def square(a):\n",
    "    return a**2\n",
    "def cube_root(a):\n",
    "    return a**1/3\n",
    "def square_root(a):\n",
    "    return a**1/2"
   ]
  },
  {
   "cell_type": "code",
   "execution_count": 4,
   "id": "9bbd0242-efbd-4268-aa65-d25f66eeba5d",
   "metadata": {},
   "outputs": [
    {
     "name": "stdout",
     "output_type": "stream",
     "text": [
      "27\n"
     ]
    }
   ],
   "source": [
    "print(cube(3))"
   ]
  },
  {
   "cell_type": "code",
   "execution_count": 5,
   "id": "22a263ac-f9ab-4115-a6fb-b70ef2f4ea4e",
   "metadata": {},
   "outputs": [
    {
     "name": "stdout",
     "output_type": "stream",
     "text": [
      "9\n"
     ]
    }
   ],
   "source": [
    "print(square(3))"
   ]
  },
  {
   "cell_type": "code",
   "execution_count": 6,
   "id": "8279135f-89e0-4cb3-9f0c-a503967f0b29",
   "metadata": {},
   "outputs": [
    {
     "name": "stdout",
     "output_type": "stream",
     "text": [
      "1.0\n"
     ]
    }
   ],
   "source": [
    "print(cube_root(3))"
   ]
  },
  {
   "cell_type": "code",
   "execution_count": 8,
   "id": "1a5415ad-b47f-47bb-80e3-4bb616526b4e",
   "metadata": {},
   "outputs": [
    {
     "name": "stdout",
     "output_type": "stream",
     "text": [
      "1.5\n"
     ]
    }
   ],
   "source": [
    "print(square_root(3))"
   ]
  },
  {
   "cell_type": "code",
   "execution_count": 9,
   "id": "8da1139f-df6d-4bfe-ac6d-1f20b2c1c7b0",
   "metadata": {},
   "outputs": [],
   "source": [
    "# function for area of circle\n",
    "def cir_area(r):\n",
    "    return ((22/7)*r*r)"
   ]
  },
  {
   "cell_type": "code",
   "execution_count": 10,
   "id": "3d2ebcbf-366e-4fc5-b212-65f53134d00a",
   "metadata": {},
   "outputs": [],
   "source": [
    "# function for area of triangle\n",
    "def tri_area(l,b):\n",
    "    return ((1/2)*l*b)"
   ]
  },
  {
   "cell_type": "code",
   "execution_count": 11,
   "id": "83eaaf2e-aa4e-44fa-94f3-b1e4e5de3243",
   "metadata": {},
   "outputs": [
    {
     "data": {
      "text/plain": [
       "28.285714285714285"
      ]
     },
     "execution_count": 11,
     "metadata": {},
     "output_type": "execute_result"
    }
   ],
   "source": [
    "cir_area(3)"
   ]
  },
  {
   "cell_type": "code",
   "execution_count": 12,
   "id": "d6f5049d-ba18-4895-9c62-8e3c4fb8d612",
   "metadata": {},
   "outputs": [
    {
     "data": {
      "text/plain": [
       "6.0"
      ]
     },
     "execution_count": 12,
     "metadata": {},
     "output_type": "execute_result"
    }
   ],
   "source": [
    "tri_area(3,4)"
   ]
  },
  {
   "cell_type": "code",
   "execution_count": 16,
   "id": "c6f7a734-e253-495c-ad96-03643729d28b",
   "metadata": {},
   "outputs": [],
   "source": [
    "# function to convert 1st 2 letters into uppercase\n",
    "def con(s):\n",
    "    return s[0:2].upper()+s[2:]"
   ]
  },
  {
   "cell_type": "code",
   "execution_count": 17,
   "id": "a4d0ba4f-9d0a-49ed-a724-36e6e9eabb77",
   "metadata": {},
   "outputs": [
    {
     "data": {
      "text/plain": [
       "'HEllo'"
      ]
     },
     "execution_count": 17,
     "metadata": {},
     "output_type": "execute_result"
    }
   ],
   "source": [
    "con(\"hello\")"
   ]
  },
  {
   "cell_type": "code",
   "execution_count": 41,
   "id": "cbfd5a06-cda6-4ff7-bb5b-807fc5be6f89",
   "metadata": {},
   "outputs": [],
   "source": [
    "# function to convert last 2 letters into uppercase\n",
    "def con_last(s):\n",
    "    return s[0:-2]+s[-2:].upper()"
   ]
  },
  {
   "cell_type": "code",
   "execution_count": 42,
   "id": "9d103bfb-8d34-4b7c-815a-e6e3fa7287f6",
   "metadata": {},
   "outputs": [
    {
     "data": {
      "text/plain": [
       "'helLO'"
      ]
     },
     "execution_count": 42,
     "metadata": {},
     "output_type": "execute_result"
    }
   ],
   "source": [
    "con_last('hello')"
   ]
  },
  {
   "cell_type": "code",
   "execution_count": 46,
   "id": "d3d4556a-5028-4b59-8915-759f6d23c535",
   "metadata": {},
   "outputs": [],
   "source": [
    "# count the occurenece of e in the string\n",
    "def occ_of_e(s):\n",
    "    return s.count('e')+s.count('E')"
   ]
  },
  {
   "cell_type": "code",
   "execution_count": 48,
   "id": "8d601115-2568-48ef-a9a4-988f5bb2f860",
   "metadata": {},
   "outputs": [
    {
     "data": {
      "text/plain": [
       "3"
      ]
     },
     "execution_count": 48,
     "metadata": {},
     "output_type": "execute_result"
    }
   ],
   "source": [
    "occ_of_e('Heeello')"
   ]
  },
  {
   "cell_type": "code",
   "execution_count": 1,
   "id": "0d56a760-8bb0-4137-8fcf-e3426e03b4b2",
   "metadata": {},
   "outputs": [],
   "source": [
    "# count the space in string\n",
    "def space_count(s):\n",
    "    return s.count(' ')"
   ]
  },
  {
   "cell_type": "code",
   "execution_count": 2,
   "id": "63b7e01d-9bf7-407a-8426-37edfff6bcc4",
   "metadata": {},
   "outputs": [
    {
     "data": {
      "text/plain": [
       "3"
      ]
     },
     "execution_count": 2,
     "metadata": {},
     "output_type": "execute_result"
    }
   ],
   "source": [
    "space_count('Hello World  ')"
   ]
  },
  {
   "cell_type": "code",
   "execution_count": null,
   "id": "28c260bf-b5c8-437b-890c-214e36e3a8a7",
   "metadata": {},
   "outputs": [],
   "source": []
  }
 ],
 "metadata": {
  "kernelspec": {
   "display_name": "Python 3 (ipykernel)",
   "language": "python",
   "name": "python3"
  },
  "language_info": {
   "codemirror_mode": {
    "name": "ipython",
    "version": 3
   },
   "file_extension": ".py",
   "mimetype": "text/x-python",
   "name": "python",
   "nbconvert_exporter": "python",
   "pygments_lexer": "ipython3",
   "version": "3.12.4"
  }
 },
 "nbformat": 4,
 "nbformat_minor": 5
}

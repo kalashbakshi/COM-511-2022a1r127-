{
 "cells": [
  {
   "cell_type": "code",
   "execution_count": 1,
   "id": "9baf1476-97e8-4211-a085-ccb0cc6f85b4",
   "metadata": {},
   "outputs": [],
   "source": [
    "#create 2 list name them square and cube and add perfect square\n",
    "# between 1 and 200 in square list same with cube"
   ]
  },
  {
   "cell_type": "code",
   "execution_count": 6,
   "id": "402a5981-aa51-4502-a380-819425e68e9e",
   "metadata": {},
   "outputs": [
    {
     "name": "stdout",
     "output_type": "stream",
     "text": [
      "Perfect squares: [1, 4, 9, 16, 25, 36, 49, 64, 81, 100, 121, 144, 169, 196]\n",
      "Perfect cubes: [1, 8, 27, 125]\n"
     ]
    }
   ],
   "source": [
    "\n",
    "square = []\n",
    "cube = []\n",
    "for i in range(1, 201):\n",
    "    if (i**0.5).is_integer():\n",
    "        square.append(i)\n",
    "    if (i**(1/3)).is_integer():\n",
    "        cube.append(i)\n",
    "\n",
    "print(\"Perfect squares:\", square)\n",
    "print(\"Perfect cubes:\", cube)\n"
   ]
  },
  {
   "cell_type": "code",
   "execution_count": 3,
   "id": "c0980a5d-67f7-4636-b61d-76cbc087591a",
   "metadata": {},
   "outputs": [
    {
     "name": "stdout",
     "output_type": "stream",
     "text": [
      "Akanksha : 8\n",
      "archit : 6\n",
      "aryan : 5\n",
      "kanka : 5\n",
      "lomesh : 6\n",
      "tushar : 6\n",
      "vinit : 5\n"
     ]
    }
   ],
   "source": [
    "#print names from the list with the no. of letters \n",
    "l1=['Akanksha','archit','aryan','kanka','lomesh','tushar','vinit']\n",
    "for i in l1:\n",
    "    print(i,':',len(i))"
   ]
  },
  {
   "cell_type": "code",
   "execution_count": 7,
   "id": "85b34a49-3bf7-47ed-9fad-9aca6e1033b7",
   "metadata": {},
   "outputs": [
    {
     "name": "stdout",
     "output_type": "stream",
     "text": [
      "what occur 1\n",
      "is occur 2\n",
      "sql occur 1\n",
      "and occur 3\n",
      "why occur 1\n",
      "is occur 2\n",
      "it occur 1\n",
      "important occur 1\n",
      "in occur 2\n",
      "data occur 2\n",
      "science occur 1\n",
      "and occur 3\n",
      "explain occur 1\n",
      "the occur 1\n",
      "difference occur 1\n",
      "between occur 1\n",
      "a occur 14\n",
      "database occur 1\n",
      "and occur 3\n",
      "a occur 14\n",
      "table occur 1\n"
     ]
    }
   ],
   "source": [
    "#count the occurence  of each word\n",
    "st1=\"\"\"what is sql and why is it important in data science and explain  the difference between a database and a table\"\"\"\n",
    "word=st1.split()\n",
    "for i in word:\n",
    "    print(i,'occur',st1.count(i))"
   ]
  },
  {
   "cell_type": "code",
   "execution_count": 8,
   "id": "0fc51a34-25e5-4450-8e20-0da8f30178bc",
   "metadata": {},
   "outputs": [
    {
     "name": "stdout",
     "output_type": "stream",
     "text": [
      "Akanksha\n"
     ]
    }
   ],
   "source": [
    "#print the longest name from the list\n",
    "names=['Akanksha','archit','aryan','kanka','lomesh','tushar','vinit']\n",
    "a=names.sort(key=len)\n",
    "print(names[-1])"
   ]
  },
  {
   "cell_type": "code",
   "execution_count": 3,
   "id": "0b78b273-e3cc-46c9-bd9f-f712ada09bc5",
   "metadata": {},
   "outputs": [
    {
     "name": "stdout",
     "output_type": "stream",
     "text": [
      "*\t\t\t\t*\t\n",
      "\t*\t\t*\t\t\n",
      "\t\t*\t\t\t\n",
      "\t*\t\t*\t\t\n",
      "*\t\t\t\t*\t\n"
     ]
    }
   ],
   "source": [
    "def draw_pattern(size):\n",
    "    for i in range(1, size + 1):\n",
    "        for j in range(1, size + 1):\n",
    "            if i == j or i + j == size + 1:\n",
    "                print('*',end='\\t')\n",
    "            else:\n",
    "                print('\\t',end='')\n",
    "        print()\n",
    "\n",
    "draw_pattern(5)"
   ]
  },
  {
   "cell_type": "code",
   "execution_count": null,
   "id": "bdff8031-0496-4beb-9b76-89a6e63bba16",
   "metadata": {},
   "outputs": [],
   "source": []
  }
 ],
 "metadata": {
  "kernelspec": {
   "display_name": "Python 3 (ipykernel)",
   "language": "python",
   "name": "python3"
  },
  "language_info": {
   "codemirror_mode": {
    "name": "ipython",
    "version": 3
   },
   "file_extension": ".py",
   "mimetype": "text/x-python",
   "name": "python",
   "nbconvert_exporter": "python",
   "pygments_lexer": "ipython3",
   "version": "3.12.4"
  }
 },
 "nbformat": 4,
 "nbformat_minor": 5
}

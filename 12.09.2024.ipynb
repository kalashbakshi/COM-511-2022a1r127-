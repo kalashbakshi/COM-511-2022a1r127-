{
 "cells": [
  {
   "cell_type": "code",
   "execution_count": 3,
   "id": "c1c0cb5b-cbaf-475f-984f-2ba393023fbe",
   "metadata": {},
   "outputs": [
    {
     "name": "stdin",
     "output_type": "stream",
     "text": [
      "Enter the name of the shape cuboid\n",
      "Enter you want in cuboid area\n"
     ]
    },
    {
     "name": "stdout",
     "output_type": "stream",
     "text": [
      "total surface area of cuboid is ==> 2*l*w + 2*w*h + 2*l*h\n"
     ]
    }
   ],
   "source": [
    "name=input(\"Enter the name of the shape\")\n",
    "if name.lower()==\"triangle\":\n",
    "    g=input(\"Enter you want in triangle\")\n",
    "    if g.lower()==\"area\":\n",
    "        print(\"area of triangle is ==>1/2*b*h\")\n",
    "    elif g.lower()==\"perimeter\":\n",
    "        print(\"perimeter of triangle is A+B+C\")\n",
    "elif name.lower()==\"cube\":\n",
    "    g=input(\"Enter you want in cube\")\n",
    "    if g.lower()==\"area\":\n",
    "        print(\"area of cube is ==> 6*side**2\")\n",
    "    elif g.lower()==\"perimeter\":\n",
    "        print(\"perimeter of cube is 12*side\")\n",
    "elif name.lower()==\"cylinder\":\n",
    "    g=input(\"Enter you want in cylinder\")\n",
    "    if g.lower()==\"area\":\n",
    "        print(\"total surface area of cylinder is ==> 2*pi*r*h + 2*pi*r**2\")\n",
    "    elif g.lower()==\"perimeter\":\n",
    "        print(\"perimeter of cylinder is 4*r + 2*h\")\n",
    "    elif g.lower()==\"volume\":\n",
    "        print(\"perimeter of volume is pi*r**2*h\")\n",
    "elif name.lower()==\"cuboid\":\n",
    "    g=input(\"Enter you want in cuboid\")\n",
    "    if g.lower()==\"area\":\n",
    "        print(\"total surface area of cuboid is ==> 2*l*b + 2*b*h + 2*l*h\")\n",
    "    elif g.lower()==\"perimeter\":\n",
    "        print(\"perimeter of cuboid is 4*(l+b+h)\")\n",
    "    elif g.lower()==\"volume\":\n",
    "        print(\"volume of cuboid is l*b*h\")"
   ]
  },
  {
   "cell_type": "code",
   "execution_count": 6,
   "id": "a2f81160-a867-4c2d-bbcf-c149a53fae9f",
   "metadata": {},
   "outputs": [
    {
     "name": "stdin",
     "output_type": "stream",
     "text": [
      "Enter the name of the shape triangle\n",
      "Enter you want in triangle perimeter\n",
      "Enter the a :  3\n",
      "Enter the b :  5\n",
      "Enter the c :  7\n"
     ]
    },
    {
     "name": "stdout",
     "output_type": "stream",
     "text": [
      "perimeter of triangle is : 15.0\n"
     ]
    }
   ],
   "source": [
    "name=input(\"Enter the name of the shape\")\n",
    "if name.lower()==\"triangle\":\n",
    "    g=input(\"Enter you want in triangle\")\n",
    "    if g.lower()==\"area\":\n",
    "        h=float(input(\"Enter the height : \"))\n",
    "        b=float(input(\"Enter the breadth : \"))\n",
    "        print(\"area of triangle is :\",1/2*b*h)\n",
    "    elif g.lower()==\"perimeter\":\n",
    "        a=float(input(\"Enter the a : \"))\n",
    "        b=float(input(\"Enter the b : \"))\n",
    "        c=float(input(\"Enter the c : \"))\n",
    "        print(\"perimeter of triangle is :\",a+b+c)"
   ]
  },
  {
   "cell_type": "code",
   "execution_count": null,
   "id": "cef7b407-128d-4795-992e-b0d3a49c838f",
   "metadata": {},
   "outputs": [],
   "source": []
  },
  {
   "cell_type": "code",
   "execution_count": null,
   "id": "c13af922-4cf9-4819-b1d8-7f95675679c8",
   "metadata": {},
   "outputs": [],
   "source": [
    "name=input(\"Enter the name of the shape\")\n",
    "if name.lower()==\"triangle\":\n",
    "    g=input(\"Enter you want in triangle\")\n",
    "    if g.lower()==\"area\":\n",
    "        permission=input('if you want to calculate then yes for formula no')\n",
    "        if permission.lower()=='yes':\n",
    "            print(\"area of triangle is : 1/2*b*h\")\n",
    "        else:\n",
    "            print(\"area of triangle is :\",1/2*b*h)\n",
    "    elif g.lower()==\"perimeter\":\n",
    "        print(\"perimeter of triangle is A+B+C\")\n",
    "\n",
    "\n",
    "\n",
    "elif name.lower()==\"cube\":\n",
    "    g=input(\"Enter you want in cube\")\n",
    "    if g.lower()==\"area\":\n",
    "        permission=input('if you want to calculate then yes for formula no')\n",
    "        if permission.lower()=='yes':\n",
    "        print(\"area of cube is ==> 6*side**2\")\n",
    "    elif g.lower()==\"perimeter\":\n",
    "        print(\"perimeter of cube is 12*side\")\n",
    "\n",
    "\n",
    "\n",
    "\n",
    "elif name.lower()==\"cylinder\":\n",
    "    g=input(\"Enter you want in cylinder\")\n",
    "    if g.lower()==\"area\":\n",
    "        print(\"total surface area of cylinder is ==> 2*pi*r*h + 2*pi*r**2\")\n",
    "    elif g.lower()==\"perimeter\":\n",
    "        print(\"perimeter of cylinder is 4*r + 2*h\")\n",
    "    elif g.lower()==\"volume\":\n",
    "        print(\"perimeter of volume is pi*r**2*h\")\n",
    "\n",
    "\n",
    "\n",
    "elif name.lower()==\"cuboid\":\n",
    "    g=input(\"Enter you want in cuboid\")\n",
    "    if g.lower()==\"area\":\n",
    "        print(\"total surface area of cuboid is ==> 2*l*b + 2*b*h + 2*l*h\")\n",
    "    elif g.lower()==\"perimeter\":\n",
    "        print(\"perimeter of cuboid is 4*(l+b+h)\")\n",
    "    elif g.lower()==\"volume\":\n",
    "        print(\"volume of cuboid is l*b*h\")"
   ]
  }
 ],
 "metadata": {
  "kernelspec": {
   "display_name": "Python 3 (ipykernel)",
   "language": "python",
   "name": "python3"
  },
  "language_info": {
   "codemirror_mode": {
    "name": "ipython",
    "version": 3
   },
   "file_extension": ".py",
   "mimetype": "text/x-python",
   "name": "python",
   "nbconvert_exporter": "python",
   "pygments_lexer": "ipython3",
   "version": "3.12.4"
  }
 },
 "nbformat": 4,
 "nbformat_minor": 5
}
